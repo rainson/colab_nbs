{
  "nbformat": 4,
  "nbformat_minor": 0,
  "metadata": {
    "colab": {
      "name": "yt-dlp-yuli-quantum-plists.ipynb",
      "provenance": [],
      "collapsed_sections": [
        "RDHuIkoi6l9a",
        "NQ0TxfKeghR8",
        "NObEcBWAJoaz",
        "2f-THZmDoOaY",
        "MSUasbRUDP3B",
        "9UagRtLPyKoQ",
        "GahMjYf8miNs",
        "7-3O4en4C4IL",
        "VRk2Ye1exWVA"
      ],
      "include_colab_link": true
    },
    "kernelspec": {
      "name": "python3",
      "display_name": "Python 3"
    },
    "accelerator": "GPU"
  },
  "cells": [
    {
      "cell_type": "markdown",
      "metadata": {
        "id": "view-in-github",
        "colab_type": "text"
      },
      "source": [
        "<a href=\"https://colab.research.google.com/github/rainson/colab_nbs/blob/main/yt_dlp_yuli_quantum_plists.ipynb\" target=\"_parent\"><img src=\"https://colab.research.google.com/assets/colab-badge.svg\" alt=\"Open In Colab\"/></a>"
      ]
    },
    {
      "cell_type": "markdown",
      "metadata": {
        "id": "EFOqhHG6hOVH"
      },
      "source": [
        "# **1.** Install FFmpeg"
      ]
    },
    {
      "cell_type": "code",
      "metadata": {
        "id": "hFeE-qPuhTiK",
        "colab": {
          "base_uri": "https://localhost:8080/",
          "height": 74
        },
        "outputId": "3503f8f2-6e75-4199-af44-0f3f62b31014"
      },
      "source": [
        "#@title <font size=\"5\">← ឵឵<i>Upgrade FFmpeg to v4.2.2</font> { vertical-output: true }\n",
        "from IPython.display import clear_output\n",
        "import os, urllib.request\n",
        "HOME = os.path.expanduser(\"~\")\n",
        "pathDoneCMD = f'{HOME}/doneCMD.sh'\n",
        "if not os.path.exists(f\"{HOME}/.ipython/ttmg.py\"):\n",
        "    hCode = \"https://raw.githubusercontent.com/yunooooo/gcct/master/res/ttmg.py\"\n",
        "    urllib.request.urlretrieve(hCode, f\"{HOME}/.ipython/ttmg.py\")\n",
        "\n",
        "from ttmg import (\n",
        "    loadingAn,\n",
        "    textAn,\n",
        ")\n",
        "\n",
        "loadingAn(name=\"lds\")\n",
        "textAn(\"Installing Dependencies...\", ty='twg')\n",
        "os.system('pip install git+git://github.com/AWConant/jikanpy.git')\n",
        "os.system('add-apt-repository -y ppa:jonathonf/ffmpeg-4')\n",
        "os.system('apt-get update')\n",
        "os.system('apt install mediainfo')\n",
        "os.system('apt-get install ffmpeg')\n",
        "clear_output()\n",
        "print('Installation finished.')"
      ],
      "execution_count": 1,
      "outputs": [
        {
          "output_type": "stream",
          "name": "stdout",
          "text": [
            "Installation finished.\n"
          ]
        }
      ]
    },
    {
      "cell_type": "code",
      "source": [
        "!pip install yt-dlp"
      ],
      "metadata": {
        "colab": {
          "base_uri": "https://localhost:8080/"
        },
        "id": "LsX55_79q07q",
        "outputId": "aa51cc49-ad03-47b2-b7f4-f9010e789bf2"
      },
      "execution_count": 2,
      "outputs": [
        {
          "output_type": "stream",
          "name": "stdout",
          "text": [
            "Collecting yt-dlp\n",
            "  Downloading yt_dlp-2022.3.8.2-py3-none-any.whl (2.6 MB)\n",
            "\u001b[K     |████████████████████████████████| 2.6 MB 5.1 MB/s \n",
            "\u001b[?25hCollecting websockets\n",
            "  Downloading websockets-10.2-cp37-cp37m-manylinux_2_5_x86_64.manylinux1_x86_64.manylinux_2_12_x86_64.manylinux2010_x86_64.whl (111 kB)\n",
            "\u001b[K     |████████████████████████████████| 111 kB 44.3 MB/s \n",
            "\u001b[?25hCollecting pycryptodomex\n",
            "  Downloading pycryptodomex-3.14.1-cp35-abi3-manylinux2010_x86_64.whl (2.0 MB)\n",
            "\u001b[K     |████████████████████████████████| 2.0 MB 33.5 MB/s \n",
            "\u001b[?25hCollecting brotli\n",
            "  Downloading Brotli-1.0.9-cp37-cp37m-manylinux1_x86_64.whl (357 kB)\n",
            "\u001b[K     |████████████████████████████████| 357 kB 49.6 MB/s \n",
            "\u001b[?25hCollecting mutagen\n",
            "  Downloading mutagen-1.45.1-py3-none-any.whl (218 kB)\n",
            "\u001b[K     |████████████████████████████████| 218 kB 28.2 MB/s \n",
            "\u001b[?25hInstalling collected packages: websockets, pycryptodomex, mutagen, brotli, yt-dlp\n",
            "Successfully installed brotli-1.0.9 mutagen-1.45.1 pycryptodomex-3.14.1 websockets-10.2 yt-dlp-2022.3.8.2\n"
          ]
        }
      ]
    },
    {
      "cell_type": "markdown",
      "metadata": {
        "id": "CUq1_Dnegrs1"
      },
      "source": [
        "# **2.** Mount Google Drive \n",
        "\n",
        "\n",
        "\n"
      ]
    },
    {
      "cell_type": "code",
      "metadata": {
        "id": "ojI73noUg1If",
        "colab": {
          "base_uri": "https://localhost:8080/"
        },
        "outputId": "a33b1074-c0ea-42eb-8d5c-f04b94f42ec7"
      },
      "source": [
        "from google.colab import drive\n",
        "drive.mount('/content/drive')"
      ],
      "execution_count": 3,
      "outputs": [
        {
          "output_type": "stream",
          "name": "stdout",
          "text": [
            "Mounted at /content/drive\n"
          ]
        }
      ]
    },
    {
      "cell_type": "code",
      "source": [
        "import os\n",
        "out_dir=\"/content/drive/Shareddrives/OBA/yt-dlp-test/\"\n",
        "\n",
        "out_arg = f'\"%(uploader)s/%(playlist)s/%(title)s-%(resolution)s.%(ext)s\"'\n",
        "# subs_arg=\"--sub-langs all,-live chat --embed-subs --embed-thumbnail --embed-metadata --convert-subs srt\"\n",
        "subs_arg=\"--write-auto-sub --write-subs --sub-langs en.* --convert-subs srt\"\n",
        "format_arg=\"--merge-output-format mp4\"\n",
        "url_arg = \"https://www.youtube.com/watch?v=DZxC0NfIolQ\"\n",
        "uurl_arg = \"https://www.youtube.com/c/YuliNazarov/playlists\"\n",
        "ytdlp_cmd=f'yt-dlp -o {out_dir}{out_arg} {subs_arg} {format_arg} {uurl_arg}'\n",
        "output = os.popen(ytdlp_cmd)\n",
        "print(output.read())\n",
        "# os.system(ytdlp_cmd)\n"
      ],
      "metadata": {
        "id": "KXd8biIArt9-"
      },
      "execution_count": null,
      "outputs": []
    },
    {
      "cell_type": "code",
      "source": [
        "!yt-dlp -o /content/drive/Shareddrives/OBA/yt-dlp-test/\"%(uploader)s/%(playlist)s/%(title)s-%(resolution)s.%(ext)s\" --write-auto-sub --write-subs --sub-langs en.* --convert-subs srt --merge-output-format mp4 https://www.youtube.com/c/YuliNazarov/playlists"
      ],
      "metadata": {
        "colab": {
          "base_uri": "https://localhost:8080/"
        },
        "id": "v82FwaSjVta8",
        "outputId": "fd08525f-a7a5-4739-d1b4-7301287807af"
      },
      "execution_count": null,
      "outputs": [
        {
          "output_type": "stream",
          "name": "stdout",
          "text": [
            "[youtube:tab] YuliNazarov: Downloading webpage\n",
            "[download] Downloading playlist: Yuli Nazarov - Playlists\n",
            "[youtube:tab] playlist Yuli Nazarov - Playlists: Downloading 19 videos\n",
            "[download] Downloading video 1 of 19\n",
            "[youtube:tab] PLORxF37TNWX0L3XysfZZX7csX8EO00lnQ: Downloading webpage\n",
            "[youtube:tab] PLORxF37TNWX0L3XysfZZX7csX8EO00lnQ: Downloading API JSON with unavailable videos\n",
            "[download] Downloading playlist: Декламация\n",
            "[youtube:tab] playlist Декламация: Downloading 1 videos\n",
            "[download] Downloading video 1 of 1\n",
            "[youtube] BgBcdGghKKA: Downloading webpage\n",
            "[youtube] BgBcdGghKKA: Downloading android player API JSON\n",
            "[youtube] BgBcdGghKKA: Downloading MPD manifest\n",
            "[youtube] BgBcdGghKKA: Downloading MPD manifest\n",
            "[info] BgBcdGghKKA: Downloading 1 format(s): 247+251\n",
            "[SubtitlesConvertor] There aren't any subtitles to convert\n",
            "[download] /content/drive/Shareddrives/OBA/yt-dlp-test/Yuli Nazarov/Декламация/M. Ю. Лермонтов. Я не унижусь пред тобою.-1280x720.mp4 has already been downloaded\n",
            "[download] Finished downloading playlist: Декламация\n",
            "[download] Downloading video 2 of 19\n",
            "[youtube:tab] PLORxF37TNWX1LVKWkBsJcJhSwm6g8DfHf: Downloading webpage\n",
            "[youtube:tab] PLORxF37TNWX1LVKWkBsJcJhSwm6g8DfHf: Downloading API JSON with unavailable videos\n",
            "[download] Downloading playlist: Talks\n",
            "[youtube:tab] playlist Talks: Downloading 1 videos\n",
            "[download] Downloading video 1 of 1\n",
            "[youtube] a5rTLyh8FFM: Downloading webpage\n",
            "[youtube] a5rTLyh8FFM: Downloading android player API JSON\n",
            "[youtube] a5rTLyh8FFM: Downloading MPD manifest\n",
            "[youtube] a5rTLyh8FFM: Downloading MPD manifest\n",
            "[info] a5rTLyh8FFM: Downloading 1 format(s): 247+251\n",
            "[info] Writing video subtitles to: /content/drive/Shareddrives/OBA/yt-dlp-test/Yuli Nazarov/Talks/Talk 11-9-2020, seminar department Quantum Nanoscience, Delft-1280x720.en-orig.vtt\n",
            "[download] Destination: /content/drive/Shareddrives/OBA/yt-dlp-test/Yuli Nazarov/Talks/Talk 11-9-2020, seminar department Quantum Nanoscience, Delft-1280x720.en-orig.vtt\n",
            "\u001b[K[download] 100% of 193.47KiB in \u001b[1;37m00:00\u001b[0m\n",
            "[info] Writing video subtitles to: /content/drive/Shareddrives/OBA/yt-dlp-test/Yuli Nazarov/Talks/Talk 11-9-2020, seminar department Quantum Nanoscience, Delft-1280x720.en.vtt\n",
            "[download] Destination: /content/drive/Shareddrives/OBA/yt-dlp-test/Yuli Nazarov/Talks/Talk 11-9-2020, seminar department Quantum Nanoscience, Delft-1280x720.en.vtt\n",
            "\u001b[K[download] 100% of 193.47KiB in \u001b[1;37m00:00\u001b[0m\n",
            "[SubtitlesConvertor] Converting subtitles\n",
            "Deleting original file /content/drive/Shareddrives/OBA/yt-dlp-test/Yuli Nazarov/Talks/Talk 11-9-2020, seminar department Quantum Nanoscience, Delft-1280x720.en-orig.vtt (pass -k to keep)\n",
            "Deleting original file /content/drive/Shareddrives/OBA/yt-dlp-test/Yuli Nazarov/Talks/Talk 11-9-2020, seminar department Quantum Nanoscience, Delft-1280x720.en.vtt (pass -k to keep)\n",
            "[download] /content/drive/Shareddrives/OBA/yt-dlp-test/Yuli Nazarov/Talks/Talk 11-9-2020, seminar department Quantum Nanoscience, Delft-1280x720.mp4 has already been downloaded\n",
            "[download] Finished downloading playlist: Talks\n",
            "[download] Downloading video 3 of 19\n",
            "[youtube:tab] PLORxF37TNWX057D7_G0Lh8GUoITcG3iWo: Downloading webpage\n",
            "[youtube:tab] PLORxF37TNWX057D7_G0Lh8GUoITcG3iWo: Downloading API JSON with unavailable videos\n",
            "[download] Downloading playlist: Николай Рубцов\n",
            "[youtube:tab] playlist Николай Рубцов: Downloading 3 videos\n",
            "[download] Downloading video 1 of 3\n",
            "[youtube] 28n-4lFDOYs: Downloading webpage\n",
            "[youtube] 28n-4lFDOYs: Downloading android player API JSON\n",
            "[youtube] 28n-4lFDOYs: Downloading MPD manifest\n",
            "[youtube] 28n-4lFDOYs: Downloading MPD manifest\n",
            "[info] 28n-4lFDOYs: Downloading 1 format(s): 247+251\n",
            "[info] Writing video subtitles to: /content/drive/Shareddrives/OBA/yt-dlp-test/Yuli Nazarov/Николай Рубцов/Николай Рубцов #1. Я буду долго гнать велосипед-1280x720.en-orig.vtt\n",
            "[download] Destination: /content/drive/Shareddrives/OBA/yt-dlp-test/Yuli Nazarov/Николай Рубцов/Николай Рубцов #1. Я буду долго гнать велосипед-1280x720.en-orig.vtt\n",
            "\u001b[K[download] 100% of 597.00B in \u001b[1;37m00:00\u001b[0m\n",
            "[info] Writing video subtitles to: /content/drive/Shareddrives/OBA/yt-dlp-test/Yuli Nazarov/Николай Рубцов/Николай Рубцов #1. Я буду долго гнать велосипед-1280x720.en.vtt\n",
            "[download] Destination: /content/drive/Shareddrives/OBA/yt-dlp-test/Yuli Nazarov/Николай Рубцов/Николай Рубцов #1. Я буду долго гнать велосипед-1280x720.en.vtt\n",
            "\u001b[K[download] 100% of 597.00B in \u001b[1;37m00:00\u001b[0m\n",
            "[SubtitlesConvertor] Converting subtitles\n",
            "Deleting original file /content/drive/Shareddrives/OBA/yt-dlp-test/Yuli Nazarov/Николай Рубцов/Николай Рубцов #1. Я буду долго гнать велосипед-1280x720.en-orig.vtt (pass -k to keep)\n",
            "Deleting original file /content/drive/Shareddrives/OBA/yt-dlp-test/Yuli Nazarov/Николай Рубцов/Николай Рубцов #1. Я буду долго гнать велосипед-1280x720.en.vtt (pass -k to keep)\n",
            "[download] /content/drive/Shareddrives/OBA/yt-dlp-test/Yuli Nazarov/Николай Рубцов/Николай Рубцов #1. Я буду долго гнать велосипед-1280x720.mp4 has already been downloaded\n",
            "[download] Downloading video 2 of 3\n",
            "[youtube] 4ky-08xx_D4: Downloading webpage\n",
            "[youtube] 4ky-08xx_D4: Downloading android player API JSON\n",
            "[youtube] 4ky-08xx_D4: Downloading MPD manifest\n",
            "[youtube] 4ky-08xx_D4: Downloading MPD manifest\n",
            "[info] 4ky-08xx_D4: Downloading 1 format(s): 247+251\n",
            "[info] Writing video subtitles to: /content/drive/Shareddrives/OBA/yt-dlp-test/Yuli Nazarov/Николай Рубцов/Николай Рубцов #2 Из восьмистиший-1280x720.en-orig.vtt\n",
            "[download] Destination: /content/drive/Shareddrives/OBA/yt-dlp-test/Yuli Nazarov/Николай Рубцов/Николай Рубцов #2 Из восьмистиший-1280x720.en-orig.vtt\n",
            "\u001b[K[download] 100% of 1.92KiB in \u001b[1;37m00:00\u001b[0m\n",
            "[info] Writing video subtitles to: /content/drive/Shareddrives/OBA/yt-dlp-test/Yuli Nazarov/Николай Рубцов/Николай Рубцов #2 Из восьмистиший-1280x720.en.vtt\n",
            "[download] Destination: /content/drive/Shareddrives/OBA/yt-dlp-test/Yuli Nazarov/Николай Рубцов/Николай Рубцов #2 Из восьмистиший-1280x720.en.vtt\n",
            "\u001b[K[download] 100% of 1.92KiB in \u001b[1;37m00:00\u001b[0m\n",
            "[SubtitlesConvertor] Converting subtitles\n",
            "Deleting original file /content/drive/Shareddrives/OBA/yt-dlp-test/Yuli Nazarov/Николай Рубцов/Николай Рубцов #2 Из восьмистиший-1280x720.en-orig.vtt (pass -k to keep)\n",
            "Deleting original file /content/drive/Shareddrives/OBA/yt-dlp-test/Yuli Nazarov/Николай Рубцов/Николай Рубцов #2 Из восьмистиший-1280x720.en.vtt (pass -k to keep)\n",
            "[download] /content/drive/Shareddrives/OBA/yt-dlp-test/Yuli Nazarov/Николай Рубцов/Николай Рубцов #2 Из восьмистиший-1280x720.mp4 has already been downloaded\n",
            "[download] Downloading video 3 of 3\n",
            "[youtube] -OzwaK7BLmY: Downloading webpage\n",
            "[youtube] -OzwaK7BLmY: Downloading android player API JSON\n",
            "[youtube] -OzwaK7BLmY: Downloading MPD manifest\n",
            "[youtube] -OzwaK7BLmY: Downloading MPD manifest\n",
            "[info] -OzwaK7BLmY: Downloading 1 format(s): 247+251\n",
            "[SubtitlesConvertor] There aren't any subtitles to convert\n",
            "[download] /content/drive/Shareddrives/OBA/yt-dlp-test/Yuli Nazarov/Николай Рубцов/Николай Рубцов #3 Размытый путь-1280x720.mp4 has already been downloaded\n",
            "[download] Finished downloading playlist: Николай Рубцов\n",
            "[download] Downloading video 4 of 19\n",
            "[youtube:tab] PLORxF37TNWX0gJiCL3BYO8ilJR53NfON_: Downloading webpage\n",
            "[youtube:tab] PLORxF37TNWX0gJiCL3BYO8ilJR53NfON_: Downloading API JSON with unavailable videos\n",
            "[download] Downloading playlist: Беседы на приходе\n",
            "[youtube:tab] playlist Беседы на приходе: Downloading 2 videos\n",
            "[download] Downloading video 1 of 2\n",
            "[youtube] -ZMUmtaLWAo: Downloading webpage\n",
            "[youtube] -ZMUmtaLWAo: Downloading android player API JSON\n",
            "[youtube] -ZMUmtaLWAo: Downloading MPD manifest\n",
            "[youtube] -ZMUmtaLWAo: Downloading MPD manifest\n",
            "[info] -ZMUmtaLWAo: Downloading 1 format(s): 247+251\n",
            "[info] Writing video subtitles to: /content/drive/Shareddrives/OBA/yt-dlp-test/Yuli Nazarov/Беседы на приходе/Беседа о книге пророка Ионы-1280x720.en.vtt\n",
            "[download] Destination: /content/drive/Shareddrives/OBA/yt-dlp-test/Yuli Nazarov/Беседы на приходе/Беседа о книге пророка Ионы-1280x720.en.vtt\n",
            "\u001b[K[download] 100% of 340.63KiB in \u001b[1;37m00:00\u001b[0m\n",
            "[SubtitlesConvertor] Converting subtitles\n",
            "Deleting original file /content/drive/Shareddrives/OBA/yt-dlp-test/Yuli Nazarov/Беседы на приходе/Беседа о книге пророка Ионы-1280x720.en.vtt (pass -k to keep)\n",
            "[dashsegments] Total fragments: 574\n",
            "[download] Destination: /content/drive/Shareddrives/OBA/yt-dlp-test/Yuli Nazarov/Беседы на приходе/Беседа о книге пророка Ионы-1280x720.f247.webm\n",
            "\u001b[K[download] \u001b[0;94m 49.3%\u001b[0m of ~259.91MiB at \u001b[0;32m274.74KiB/s\u001b[0m ETA \u001b[0;33m05:49\u001b[0m (frag 283/574)"
          ]
        }
      ]
    }
  ]
}