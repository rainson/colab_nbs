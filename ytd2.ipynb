{
  "nbformat": 4,
  "nbformat_minor": 0,
  "metadata": {
    "colab": {
      "name": "ytd2.ipynb",
      "provenance": [],
      "collapsed_sections": [],
      "include_colab_link": true
    },
    "kernelspec": {
      "name": "python3",
      "display_name": "Python 3"
    }
  },
  "cells": [
    {
      "cell_type": "markdown",
      "metadata": {
        "id": "view-in-github",
        "colab_type": "text"
      },
      "source": [
        "<a href=\"https://colab.research.google.com/github/rainson/colab_nbs/blob/main/ytd2.ipynb\" target=\"_parent\"><img src=\"https://colab.research.google.com/assets/colab-badge.svg\" alt=\"Open In Colab\"/></a>"
      ]
    },
    {
      "cell_type": "markdown",
      "metadata": {
        "id": "oFTpqVcnxbJl"
      },
      "source": [
        "\n",
        "# Basic functions and imports\n"
      ]
    },
    {
      "cell_type": "code",
      "metadata": {
        "id": "F4picDcBWSSh",
        "colab": {
          "base_uri": "https://localhost:8080/"
        },
        "outputId": "bb89d5f6-f50c-4847-d705-73422ee3d942"
      },
      "source": [
        "!pip install pytube\n",
        "!pip install youtube_transcript_api\n",
        "!pip install vtt_to_srt3"
      ],
      "execution_count": 1,
      "outputs": [
        {
          "output_type": "stream",
          "name": "stdout",
          "text": [
            "Collecting pytube\n",
            "  Downloading pytube-12.0.0-py3-none-any.whl (56 kB)\n",
            "\u001b[?25l\r\u001b[K     |█████▉                          | 10 kB 15.4 MB/s eta 0:00:01\r\u001b[K     |███████████▋                    | 20 kB 16.8 MB/s eta 0:00:01\r\u001b[K     |█████████████████▍              | 30 kB 18.5 MB/s eta 0:00:01\r\u001b[K     |███████████████████████▏        | 40 kB 19.3 MB/s eta 0:00:01\r\u001b[K     |█████████████████████████████   | 51 kB 20.8 MB/s eta 0:00:01\r\u001b[K     |████████████████████████████████| 56 kB 1.3 MB/s \n",
            "\u001b[?25hInstalling collected packages: pytube\n",
            "Successfully installed pytube-12.0.0\n",
            "Collecting youtube_transcript_api\n",
            "  Downloading youtube_transcript_api-0.4.3-py3-none-any.whl (23 kB)\n",
            "Requirement already satisfied: requests in /usr/local/lib/python3.7/dist-packages (from youtube_transcript_api) (2.23.0)\n",
            "Requirement already satisfied: urllib3!=1.25.0,!=1.25.1,<1.26,>=1.21.1 in /usr/local/lib/python3.7/dist-packages (from requests->youtube_transcript_api) (1.24.3)\n",
            "Requirement already satisfied: certifi>=2017.4.17 in /usr/local/lib/python3.7/dist-packages (from requests->youtube_transcript_api) (2021.10.8)\n",
            "Requirement already satisfied: chardet<4,>=3.0.2 in /usr/local/lib/python3.7/dist-packages (from requests->youtube_transcript_api) (3.0.4)\n",
            "Requirement already satisfied: idna<3,>=2.5 in /usr/local/lib/python3.7/dist-packages (from requests->youtube_transcript_api) (2.10)\n",
            "Installing collected packages: youtube-transcript-api\n",
            "Successfully installed youtube-transcript-api-0.4.3\n",
            "Collecting vtt_to_srt3\n",
            "  Downloading vtt_to_srt3-0.1.9.0-py3-none-any.whl (8.8 kB)\n",
            "Installing collected packages: vtt-to-srt3\n",
            "Successfully installed vtt-to-srt3-0.1.9.0\n"
          ]
        }
      ]
    },
    {
      "cell_type": "code",
      "metadata": {
        "trusted": true,
        "id": "sacred-reference"
      },
      "source": [
        "from pytube import YouTube, Playlist\n",
        "from youtube_transcript_api import YouTubeTranscriptApi\n",
        "import json\n",
        "import requests\n",
        "from lxml import html\n",
        "from vtt_to_srt import vtt_to_srt\n",
        "\n",
        "# from vtt_to_srt import vtts_to_srt\n",
        "from youtube_transcript_api.formatters import JSONFormatter\n",
        "from youtube_transcript_api.formatters import TextFormatter\n",
        "from youtube_transcript_api.formatters import WebVTTFormatter"
      ],
      "execution_count": 2,
      "outputs": []
    },
    {
      "cell_type": "code",
      "metadata": {
        "id": "7lPO0LTlYcFr",
        "colab": {
          "base_uri": "https://localhost:8080/"
        },
        "outputId": "2e9bd00e-a665-45ba-fa8a-a6c1516177c6"
      },
      "source": [
        "from google.colab import drive\n",
        "drive.mount('/content/drive')"
      ],
      "execution_count": 3,
      "outputs": [
        {
          "output_type": "stream",
          "name": "stdout",
          "text": [
            "Mounted at /content/drive\n"
          ]
        }
      ]
    },
    {
      "cell_type": "code",
      "metadata": {
        "trusted": true,
        "id": "victorian-minister"
      },
      "source": [
        "\n",
        "def download(yturl,out_dir,idx=None):\n",
        "  formatter = WebVTTFormatter()\n",
        "  yt = YouTube(yturl)\n",
        "  yt.streams.filter(file_extension=\"mp4\")\n",
        "  _title = yt.title\n",
        "  # title=\" \".join([s.capitalize() for s in title.split(\" \")])\n",
        "  # title = idx\n",
        "  # if idx is None:\n",
        "  title = _title\n",
        "  \n",
        "  # if idx is not None:\n",
        "  #   title=\"{}\".format(idx)+title\n",
        "  print(\"start {} {}\".format(title, _title))\n",
        "  try:\n",
        "    yt.streams.get_by_itag(22).download(output_path=out_dir,filename=title)\n",
        "  except Exception:\n",
        "    yt.streams.get_by_itag(18).download(output_path=out_dir,filename=title)\n",
        "\n",
        "  try:\n",
        "    caption = yt.captions[\"en\"]\n",
        "    caption.download(title=title,output_path=out_dir)\n",
        "  except Exception as ex:\n",
        "    print(f\"no en subtitle in {yt.title} finished\")\n",
        "  try:\n",
        "    caption = yt.captions[\"a.en\"]\n",
        "    caption.download(title=title,output_path=out_dir)\n",
        "  except Exception as ex:\n",
        "    print(f\"no a.en subtitle in {yt.title} finished\")\n",
        "  \n",
        "\n",
        "  try:\n",
        "    transcript_list = YouTubeTranscriptApi.list_transcripts(yt.video_id)\n",
        "    transcript_list\n",
        "\n",
        "    transcript = transcript_list.find_transcript(['en'])\n",
        "    translated_transcript = transcript.translate('zh-Hans')\n",
        "    zh_trans = translated_transcript.fetch()\n",
        "    en_trans = transcript.fetch()\n",
        "\n",
        "    zh_trans = formatter.format_transcript(zh_trans)\n",
        "    en_trans=formatter.format_transcript(en_trans)\n",
        "\n",
        "    fname = out_dir+\"/{}(en).vtt\".format(title)\n",
        "    with open(fname, \"w\") as fh:\n",
        "        fh.write(en_trans)\n",
        "    # vtt_to_srt(fname)\n",
        "    fname = out_dir+\"/{}(zh).vtt\".format(title)\n",
        "    with open(fname, \"w\") as fh:\n",
        "        fh.write(zh_trans)\n",
        "    # vtt_to_srt(fname)\n",
        "    fname =  out_dir+\"/{}(zhen).vtt\".format(title)\n",
        "    with open(fname, \"w\") as fh:\n",
        "        fh.write(zh_trans+en_trans)\n",
        "    # vtt_to_srt(fname)\n",
        "  except Exception:\n",
        "    pass\n",
        "  print(\"finish {}\".format(title))\n",
        "  return _title"
      ],
      "execution_count": 4,
      "outputs": []
    },
    {
      "cell_type": "markdown",
      "metadata": {
        "id": "xvPFj8MUgh24"
      },
      "source": [
        "# Find urls in one page\n"
      ]
    },
    {
      "cell_type": "code",
      "metadata": {
        "id": "xHis1o08EYfh",
        "colab": {
          "base_uri": "https://localhost:8080/"
        },
        "outputId": "1cdfc462-a86d-4921-aa11-bd131bc23faa"
      },
      "source": [
        "import re\n",
        "# page_url = \"https://www.youtube.com/channel/UCAKQnU09rjmdVRb3iAogCiQ/videos\" #Atomic scale Jose Lado\n",
        "# page_url = \"https://www.youtube.com/c/ILSIITR/videos\" #MOU Institute Lecture Series\n",
        "# page_url = \"https://www.youtube.com/channel/UCM06KiUOw1vRrmvD8U274Ww/videos\" #Harvard CMSA quantum-matter-seminar\n",
        "page_url = \"https://www.youtube.com/c/QuantumInformationSociety/videos\" #https://quantum-information-society.webnode.co.uk/\n",
        "page = requests.get(page_url)\n",
        "webpage = html.fromstring(page.content)\n",
        "\n",
        "video_ids = re.findall(r\"watch\\?v=(\\S{11})\", page.content.decode())\n",
        "print(video_ids)\n",
        "urls = [\"https://www.youtube.com/watch?v={}\".format(vid) for vid in video_ids]\n",
        "urls = urls[::-1] # reversed for some special case\n",
        "\n",
        "out_dir = \"/content/drive/Shareddrives/OBA/oxfordQuantum/QuantumInfoSociety\""
      ],
      "execution_count": null,
      "outputs": [
        {
          "output_type": "stream",
          "name": "stdout",
          "text": [
            "['xp1QJCMLULo', '95uaKUM4b2g', '1JMFPsPT0CQ', 'vgbTBozR3M8', 'U9Lq0QUImQ8', 'Rtaq1DJPhBI', 'YOxDzj4L1Vc', 'NxGMgq0Mvyo', 'CnsQRValXdk', 'abJ8kQ9zrHA', 'pf55IJnujlY', '0_t32jmrm3E', 'cQHy8OEVRaw', 'R79rYjLT5Os', '4rMDeHPuFVk', '6e5G1DVMQyU', 'GGzRykeAiY0', 'DzN_0Kd2H5c', 'sJY7dlll8LY', '7o_uY-3IMRI', '-1CdCJXC9Dg', '0Y7VYyTz_IY', 'spl2cRsu4g8', '1IdOMEJKw0Q', 'Va7nvAywhW8', 'WUo9CHN1_UA', '7cghSq0qgdE', 'NH_l_eofIV0', 'M_VsygYJnps', 'Wavq4bf2Euk']\n"
          ]
        }
      ]
    },
    {
      "cell_type": "markdown",
      "metadata": {
        "id": "4sLVLVkE6mKr"
      },
      "source": [
        "# Urls in playlist\n"
      ]
    },
    {
      "cell_type": "code",
      "metadata": {
        "id": "Vqmvti516sQM",
        "colab": {
          "base_uri": "https://localhost:8080/"
        },
        "outputId": "d70925ef-7d05-4bdd-fd94-16f9a5a3e74e"
      },
      "source": [
        "# plisturl = \"https://www.youtube.com/playlist?list=PL7OOhDqj9FBuK3han8ipaKnz2SaGUjvGx\"# topo cm\n",
        "# plisturl=\"https://www.youtube.com/playlist?list=PLygH4pJ_4EhrwydaPvccVQYt1W6ytaYbU\" # tms19\n",
        "# plisturl = \"https://www.youtube.com/playlist?list=PLygH4pJ_4EhogZda-GSFOBhlr2lSHn_p2\" #tms18\n",
        "# plisturl = \"https://www.youtube.com/playlist?list=PLVqoFIN-64LnUQxbX2FeIGYQgX_VTWm-m\" #tms17\n",
        "# plisturl = \"https://www.youtube.com/playlist?list=PLLv6hTkOwhEl1itfLvR-IcvOFt-aCxSzy\" tms16\n",
        "# plisturl = \"https://www.youtube.com/playlist?list=PLE9Qrf4CJnRHxa_OwN7xc2bXacnWzCy1x\" #opensys1\n",
        "# plisturl = \"https://www.youtube.com/playlist?list=PLd9T7y2ABtzJuN2YgujzWZ6fL-llEyuUd\" #opensys2\n",
        "# plisturl = \"https://www.youtube.com/watch?v=g2RwzmG0spo&list=PL2IOBr0XELQSaB14lQgdFNvKHzs0W15hh\" #UTphysics2020\n",
        "# plisturl = \"https://www.youtube.com/watch?v=BSV8zKbKc_Y&list=PL2IOBr0XELQQUjDBrh2tvSHhjHu9PHFYF\"\n",
        "# plisturl = \"https://www.youtube.com/playlist?list=PLZee5Mirzz8ULGEdfuWM0DaoM-Yqtz9r8\" #pcmp2014\n",
        "# plisturl = \"https://www.youtube.com/playlist?list=PLZee5Mirzz8WkK2EtlY1De7msJ6x9vP3T\" #pcmp2015\n",
        "# plisturl = \"https://www.youtube.com/playlist?list=PLZee5Mirzz8UaZUDJZmh1BCV3xIjEPNEw\" #pcmp2016\n",
        "# plisturl = \"https://www.youtube.com/playlist?list=PL04QVxpjcnjgmUoD6tlO_0YT1k5GYgQWi\" #flucations in non equlibrium \n",
        "# plisturl = \"https://www.youtube.com/playlist?list=PLgLljLUllyOcO6g2hoVlPiIKYYdpnlrwP\" #IQUIST Seminars need reversed 更新中 https://iquist.illinois.edu/events/virtual-seminar-series\n",
        "# plisturl = \"https://www.youtube.com/playlist?list=PL0NRmB0fnLJQAnYwkpt9PN2PBKx4rvdup\" #Quantum Matter Program Havard\n",
        "# plisturl = \"https://www.youtube.com/playlist?list=PLqJ4D_Db7W_qBCNdmJ2QaoenrXWCs82v0\" #vsf speaker's corner need reversed\n",
        "# plisturl=\"https://www.youtube.com/playlist?list=PLVk0rija2HWzNDNmoScO8HyxgsraJp2nh\" #Online Spintronics Seminar 更新中https://www.spintalks.org/home\n",
        "# plisturl = \"https://www.youtube.com/playlist?list=PLGntAYRT8AVkDw1cPtAvp70rrl3nAXdOG\" # vasp1\n",
        "# plisturl = \"https://www.youtube.com/playlist?list=PLGntAYRT8AVk9EV5Fm8qRboc3RCReTqGm\" #Quanutmnerd Hands on qe 2019\n",
        "# plisturl = \"https://www.youtube.com/playlist?list=PLZee5Mirzz8WI_Un45uDkTgFjhqg7LI0f\" #2020 Princeton Summer School on Condensed Matter Physics (PSSCMP) PCCM\n",
        "# plisturl = \"https://www.youtube.com/playlist?list=PLeBrR2z7Wz568HmEJTnlSuKbvhKp9V8OF\" #Exciton Science online tutorials 2021  https://excitonscience.com/tutorials\n",
        "# plisturl = \"https://www.youtube.com/playlist?list=PLGntAYRT8AVmQMyurFoncyOdHljqeGU_R\" #Projects: Quantum Espresso Tutorial 2019\n",
        "# plisturl = \"https://www.youtube.com/playlist?list=PLoazKTcS0RzZ1SUgeOgc6SWt51gfT80N0\" #Brady Neal - Causal Inference\n",
        "# plisturl = \"https://www.youtube.com/playlist?list=PLoazKTcS0Rzb6bb9L508cyJ1z-U9iWkA0\" #Brady Neal - Causal Inference small\n",
        "# plisturl = \"https://www.youtube.com/playlist?list=PL0CLfRiRFyPDQqc0QQPdjwSKDUMdUND1Z\" #Quantum Matrials And Devices Seminars\n",
        "# plisturl = \"https://www.youtube.com/playlist?list=PLCUz8Ub-ThaREyTLSBwz-cCwoOzw7jLNU\" # MOU #1\n",
        "# plisturl = \"https://www.youtube.com/playlist?list=PLIRLJRX4ncIWZ8oMlkcZo7pKVS-ORyrgh\" #Quantum Espresso 2020 by Edi Suprayoga\n",
        "# plisturl = \"https://www.youtube.com/playlist?list=PLoxv42WBtfCA1er-IHFnYv98D7yWUSgoH\" #Max school QE 2021\n",
        "# plisturl=\"https://www.youtube.com/playlist?list=PL04QVxpjcnjiNGcf1tCl8lGkFrU2DImzp\" # non hermitian 2021 full in detail\n",
        "# plisturl = \"https://www.youtube.com/playlist?list=PL04QVxpjcnjjCUxKSXdm-n_3NExxLnVux\" #Statistical Biological Physics: From Single Molecule to Cell (Online)\n",
        "plisturl = \"https://www.youtube.com/playlist?list=PLHyI3Fbmv0SfQfS1rknFsr_UaaWpJ1EKA\" #Machine Learning for Physics and the Physics of Learning 2019\n",
        "# plisturl = \"https://www.youtube.com/playlist?list=PLemsnf33Vij6fbgJvFsm_ipMiFHxS4_kw\" #Foundations of Quantum Mechanics\n",
        "plist = Playlist(plisturl)\n",
        "urls = plist.video_urls\n",
        "# urls = urls[::-1] # reversed for some special case\n",
        "# out_dir = \"/content/drive/Shareddrives/OBA/TCM\"\n",
        "# out_dir = \"/content/drive/Shareddrives/OBA/IQUISTSeminars\"\n",
        "# out_dir = \"/content/drive/Shareddrives/OBA/HarvardCMSA/QuantumMatterProgram\"\n",
        "# out_dir = \"/content/drive/Shareddrives/OBA/VSF/SpeakerCorner\"\n",
        "# out_dir = \"/content/drive/Shareddrives/OBA/OnlineSpintronicsSeminar\"\n",
        "# out_dir = \"/content/drive/Shareddrives/OBA/vasp/vasp1\"\n",
        "# out_dir = \"/content/drive/Shareddrives/OBA/QE/Hands-onQuantumEspressoTutorial2019\"\n",
        "# out_dir = \"/content/drive/Shareddrives/OBA/PCCM/PSSCMP2020\"\n",
        "# out_dir = \"/content/drive/Shareddrives/OBA/ExcitonScienceDft\"\n",
        "# out_dir = \"/content/drive/Shareddrives/OBA/QE/QuantumEspressoTutorial\"\n",
        "# out_dir = \"/content/drive/Shareddrives/OBA/QuantumMatrialsAndDevicesSeminars\"\n",
        "# out_dir = \"/content/drive/Shareddrives/OBA/MOU/MOU1\"\n",
        "# out_dir= \"/content/drive/Shareddrives/OBA/QE/QuantumEspresso2020byEdiSuprayoga\"\n",
        "# out_dir = \"/content/drive/Shareddrives/OBA/QE/MaxTutorial2021\"\n",
        "# out_dir = \"/content/drive/Shareddrives/OBA/NonHermitian2021\"\n",
        "# out_dir = \"/content/drive/Shareddrives/OBA/StatisticalBiologicalICTS2021\"\n",
        "out_dir = \"/content/drive/Shareddrives/OBA/MLPhysicsIPAM2019\"\n",
        "# out_dir = \"/content/drive/Shareddrives/OBA/FoundationsofQuantumMechanics\"\n",
        "print(len(urls))"
      ],
      "execution_count": 5,
      "outputs": [
        {
          "output_type": "stream",
          "name": "stdout",
          "text": [
            "98\n"
          ]
        }
      ]
    },
    {
      "cell_type": "markdown",
      "metadata": {
        "id": "C0ISLgVAw71y"
      },
      "source": [
        "# Url manully\n"
      ]
    },
    {
      "cell_type": "code",
      "metadata": {
        "id": "iaDFa8IaxBfJ"
      },
      "source": [
        "## non hermitian 2021\n",
        "# urls = [\"https://www.youtube.com/watch?v=MiyTEVq8BJ0\",\n",
        "#         \"https://www.youtube.com/watch?v=wor5vdmBH_E\",\n",
        "#         \"https://www.youtube.com/watch?v=s3qXZbU7ivk\",\n",
        "#         \"https://www.youtube.com/watch?v=ON8hMzgLEHo\",\n",
        "#         \"https://www.youtube.com/watch?v=gtC1LBLYrPk\",\n",
        "#         \"https://www.youtube.com/watch?v=b1qrdafHMp0\",\n",
        "#         \"https://www.youtube.com/watch?v=xcIFxekzy3Q\",\n",
        "#         \"https://www.youtube.com/watch?v=BnIuitcOhmE\",\n",
        "#         \"https://www.youtube.com/watch?v=1zV49ovoGN8\",\n",
        "#         \"https://www.youtube.com/watch?v=Tpm0rSPw_9I\"\n",
        "#         ] \n",
        "\n",
        "urls = [\n",
        "        \"https://www.youtube.com/watch?v=0EpW1dfq5Ws&list=PLgxD9DiwxLGpnIzZ0or7RJI_5tIN2tlBI&index=5\",\n",
        "        \"https://www.youtube.com/watch?v=_AfmMHnwDew\",\n",
        "        \"\"\n",
        "\n",
        "]"
      ],
      "execution_count": null,
      "outputs": []
    },
    {
      "cell_type": "markdown",
      "metadata": {
        "id": "t3Fc865Xw2mt"
      },
      "source": [
        "# Download task"
      ]
    },
    {
      "cell_type": "code",
      "metadata": {
        "id": "gdJp9FKFkCZQ",
        "outputId": "8c181c3f-5470-4e68-9fbe-ca56c6c1cf96",
        "colab": {
          "base_uri": "https://localhost:8080/"
        }
      },
      "source": [
        "import time\n",
        "import random\n",
        "\n",
        "titles = dict()\n",
        "title_name = \"title\"\n",
        "url_name = \"url\"\n",
        "for idx, yturl in enumerate(urls): #plist.video_urls\n",
        "  # if idx<36:\n",
        "  #   continue\n",
        "  # yt = YouTube(yturl)\n",
        "  # title = yt.title\n",
        "  try:\n",
        "    idx = f\"{idx}\"\n",
        "    info = dict()\n",
        "    title = download(yturl, out_dir,idx=idx)\n",
        "    info[title_name] = title\n",
        "    info[url_name] = yturl\n",
        "    titles[idx] = info\n",
        "    print(info)\n",
        "    # time.sleep(random.random()*4+1)\n",
        "  except Exception as ex:\n",
        "    print(f\"exception {ex}\")\n",
        "vtt_to_srt.vtts_to_srt(out_dir, rec = True)\n",
        "\n",
        "import json\n",
        "import os\n",
        "title_file = \"titles.json\"\n",
        "data_path =os.path.join(out_dir, title_file) \n",
        "with open(data_path,\"w\", encoding=\"utf-8\") as fh:\n",
        "  \n",
        "    json.dump(titles, fh)\n"
      ],
      "execution_count": null,
      "outputs": [
        {
          "output_type": "stream",
          "name": "stdout",
          "text": [
            "start Frank Noé: \"Intro to Machine Learning (Part 1/2)\" Frank Noé: \"Intro to Machine Learning (Part 1/2)\"\n",
            "exception [Errno 2] No such file or directory: '/content/drive/Shareddrives/OBA/MLPhysicsIPAM2019/Frank Noé: \"Intro to Machine Learning (Part 1/2)\"'\n",
            "start Frank Noé: \"Intro to Machine Learning (Part 2/2)\" Frank Noé: \"Intro to Machine Learning (Part 2/2)\"\n",
            "exception [Errno 2] No such file or directory: '/content/drive/Shareddrives/OBA/MLPhysicsIPAM2019/Frank Noé: \"Intro to Machine Learning (Part 2/2)\"'\n",
            "start Steve Brunton: \"Dynamical Systems (Part 1/2)\" Steve Brunton: \"Dynamical Systems (Part 1/2)\"\n",
            "exception [Errno 2] No such file or directory: '/content/drive/Shareddrives/OBA/MLPhysicsIPAM2019/Steve Brunton: \"Dynamical Systems (Part 1/2)\"'\n",
            "start Steve Brunton: \"Dynamical Systems (Part 2/2)\" Steve Brunton: \"Dynamical Systems (Part 2/2)\"\n",
            "exception [Errno 2] No such file or directory: '/content/drive/Shareddrives/OBA/MLPhysicsIPAM2019/Steve Brunton: \"Dynamical Systems (Part 2/2)\"'\n",
            "start Tristan Bereau: \"Constructing Conservation Laws with Machine Learning for Energy Landscapes\" Tristan Bereau: \"Constructing Conservation Laws with Machine Learning for Energy Landscapes\"\n",
            "no en subtitle in Tristan Bereau: \"Constructing Conservation Laws with Machine Learning for Energy Landscapes\" finished\n",
            "no a.en subtitle in Tristan Bereau: \"Constructing Conservation Laws with Machine Learning for Energy Landscapes\" finished\n",
            "finish Tristan Bereau: \"Constructing Conservation Laws with Machine Learning for Energy Landscapes\"\n",
            "{'title': 'Tristan Bereau: \"Constructing Conservation Laws with Machine Learning for Energy Landscapes\"', 'url': 'https://www.youtube.com/watch?v=5QIpQ0faOlk'}\n",
            "start Andrew Ferguson: \"Machine learning-enabled enhanced sampling in biomolecular simulation and...\" Andrew Ferguson: \"Machine learning-enabled enhanced sampling in biomolecular simulation and...\"\n",
            "no en subtitle in Andrew Ferguson: \"Machine learning-enabled enhanced sampling in biomolecular simulation and...\" finished\n",
            "no a.en subtitle in Andrew Ferguson: \"Machine learning-enabled enhanced sampling in biomolecular simulation and...\" finished\n",
            "finish Andrew Ferguson: \"Machine learning-enabled enhanced sampling in biomolecular simulation and...\"\n",
            "{'title': 'Andrew Ferguson: \"Machine learning-enabled enhanced sampling in biomolecular simulation and...\"', 'url': 'https://www.youtube.com/watch?v=9l-t-r1aPNU'}\n",
            "start Marina Meilă: \"Manifold Learning\" Marina Meilă: \"Manifold Learning\"\n",
            "no en subtitle in Marina Meilă: \"Manifold Learning\" finished\n",
            "no a.en subtitle in Marina Meilă: \"Manifold Learning\" finished\n",
            "finish Marina Meilă: \"Manifold Learning\"\n",
            "{'title': 'Marina Meilă: \"Manifold Learning\"', 'url': 'https://www.youtube.com/watch?v=PupDih20l3g'}\n",
            "start Anatole von Lilienfeld: \"Introduction to Electronic Structure Calculations\" Anatole von Lilienfeld: \"Introduction to Electronic Structure Calculations\"\n",
            "no en subtitle in Anatole von Lilienfeld: \"Introduction to Electronic Structure Calculations\" finished\n",
            "no a.en subtitle in Anatole von Lilienfeld: \"Introduction to Electronic Structure Calculations\" finished\n",
            "finish Anatole von Lilienfeld: \"Introduction to Electronic Structure Calculations\"\n",
            "{'title': 'Anatole von Lilienfeld: \"Introduction to Electronic Structure Calculations\"', 'url': 'https://www.youtube.com/watch?v=_kvEzgjHJOY'}\n",
            "start Gianni De Fabritiis: \"Machine Learning for Drug Design\" Gianni De Fabritiis: \"Machine Learning for Drug Design\"\n",
            "no en subtitle in Gianni De Fabritiis: \"Machine Learning for Drug Design\" finished\n",
            "no a.en subtitle in Gianni De Fabritiis: \"Machine Learning for Drug Design\" finished\n",
            "finish Gianni De Fabritiis: \"Machine Learning for Drug Design\"\n",
            "{'title': 'Gianni De Fabritiis: \"Machine Learning for Drug Design\"', 'url': 'https://www.youtube.com/watch?v=b86RiT5wmtE'}\n",
            "start Lars Ruthotto: \"Deep Neural Networks Motivated By Differential Equations (Part 1/2)\" Lars Ruthotto: \"Deep Neural Networks Motivated By Differential Equations (Part 1/2)\"\n",
            "exception [Errno 2] No such file or directory: '/content/drive/Shareddrives/OBA/MLPhysicsIPAM2019/Lars Ruthotto: \"Deep Neural Networks Motivated By Differential Equations (Part 1/2)\"'\n",
            "start Lars Ruthotto: \"Deep Neural Networks Motivated By Differential Equations (Part 2/2)\" Lars Ruthotto: \"Deep Neural Networks Motivated By Differential Equations (Part 2/2)\"\n",
            "exception [Errno 2] No such file or directory: '/content/drive/Shareddrives/OBA/MLPhysicsIPAM2019/Lars Ruthotto: \"Deep Neural Networks Motivated By Differential Equations (Part 2/2)\"'\n",
            "start Kyle Cranmer: \"The interplay between physically motivated simulations and machine learning\" Kyle Cranmer: \"The interplay between physically motivated simulations and machine learning\"\n",
            "no en subtitle in Kyle Cranmer: \"The interplay between physically motivated simulations and machine learning\" finished\n",
            "no a.en subtitle in Kyle Cranmer: \"The interplay between physically motivated simulations and machine learning\" finished\n",
            "finish Kyle Cranmer: \"The interplay between physically motivated simulations and machine learning\"\n",
            "{'title': 'Kyle Cranmer: \"The interplay between physically motivated simulations and machine learning\"', 'url': 'https://www.youtube.com/watch?v=U_ChLPtVV_k'}\n",
            "start Frank Noé: \"Connection between Statistics and Machine Learning\" Frank Noé: \"Connection between Statistics and Machine Learning\"\n",
            "no en subtitle in Frank Noé: \"Connection between Statistics and Machine Learning\" finished\n",
            "no a.en subtitle in Frank Noé: \"Connection between Statistics and Machine Learning\" finished\n",
            "finish Frank Noé: \"Connection between Statistics and Machine Learning\"\n",
            "{'title': 'Frank Noé: \"Connection between Statistics and Machine Learning\"', 'url': 'https://www.youtube.com/watch?v=oCobScjeS0w'}\n",
            "start Steve Brunton: \"Introduction to Fluid Mechanics\" Steve Brunton: \"Introduction to Fluid Mechanics\"\n",
            "no en subtitle in Steve Brunton: \"Introduction to Fluid Mechanics\" finished\n",
            "no a.en subtitle in Steve Brunton: \"Introduction to Fluid Mechanics\" finished\n",
            "finish Steve Brunton: \"Introduction to Fluid Mechanics\"\n",
            "{'title': 'Steve Brunton: \"Introduction to Fluid Mechanics\"', 'url': 'https://www.youtube.com/watch?v=DQ7rAG_gBEA'}\n",
            "start Alexandre Tkatchenko: \"Towards a Unified Machine Learning Model of Molecular Chemical Space\" Alexandre Tkatchenko: \"Towards a Unified Machine Learning Model of Molecular Chemical Space\"\n",
            "no en subtitle in Alexandre Tkatchenko: \"Towards a Unified Machine Learning Model of Molecular Chemical Space\" finished\n",
            "no a.en subtitle in Alexandre Tkatchenko: \"Towards a Unified Machine Learning Model of Molecular Chemical Space\" finished\n",
            "finish Alexandre Tkatchenko: \"Towards a Unified Machine Learning Model of Molecular Chemical Space\"\n",
            "{'title': 'Alexandre Tkatchenko: \"Towards a Unified Machine Learning Model of Molecular Chemical Space\"', 'url': 'https://www.youtube.com/watch?v=Xn7YO1iJsyw'}\n",
            "start Xavier Bresson: \"Graph Convolutional Neural Networks for Molecule Generation\" Xavier Bresson: \"Graph Convolutional Neural Networks for Molecule Generation\"\n",
            "no en subtitle in Xavier Bresson: \"Graph Convolutional Neural Networks for Molecule Generation\" finished\n",
            "no a.en subtitle in Xavier Bresson: \"Graph Convolutional Neural Networks for Molecule Generation\" finished\n",
            "finish Xavier Bresson: \"Graph Convolutional Neural Networks for Molecule Generation\"\n",
            "{'title': 'Xavier Bresson: \"Graph Convolutional Neural Networks for Molecule Generation\"', 'url': 'https://www.youtube.com/watch?v=VXNjCAmb6Zw'}\n",
            "start Joshua Bloom: \"Physics-Informed (and -informative) Generative Modelling in Astronomy\" Joshua Bloom: \"Physics-Informed (and -informative) Generative Modelling in Astronomy\"\n",
            "no en subtitle in Joshua Bloom: \"Physics-Informed (and -informative) Generative Modelling in Astronomy\" finished\n",
            "no a.en subtitle in Joshua Bloom: \"Physics-Informed (and -informative) Generative Modelling in Astronomy\" finished\n",
            "finish Joshua Bloom: \"Physics-Informed (and -informative) Generative Modelling in Astronomy\"\n",
            "{'title': 'Joshua Bloom: \"Physics-Informed (and -informative) Generative Modelling in Astronomy\"', 'url': 'https://www.youtube.com/watch?v=qI0-r4c2UKQ'}\n",
            "start Laurent Dinh: \"A primer on normalizing flows\" Laurent Dinh: \"A primer on normalizing flows\"\n",
            "no en subtitle in Laurent Dinh: \"A primer on normalizing flows\" finished\n",
            "no a.en subtitle in Laurent Dinh: \"A primer on normalizing flows\" finished\n",
            "finish Laurent Dinh: \"A primer on normalizing flows\"\n",
            "{'title': 'Laurent Dinh: \"A primer on normalizing flows\"', 'url': 'https://www.youtube.com/watch?v=P4Ta-TZPVi0'}\n",
            "start Frank Noé: \"Deep Generative Learning for Physics Many-Body Systems\" Frank Noé: \"Deep Generative Learning for Physics Many-Body Systems\"\n",
            "no en subtitle in Frank Noé: \"Deep Generative Learning for Physics Many-Body Systems\" finished\n",
            "no a.en subtitle in Frank Noé: \"Deep Generative Learning for Physics Many-Body Systems\" finished\n",
            "finish Frank Noé: \"Deep Generative Learning for Physics Many-Body Systems\"\n",
            "{'title': 'Frank Noé: \"Deep Generative Learning for Physics Many-Body Systems\"', 'url': 'https://www.youtube.com/watch?v=XhAP2VNPVhg'}\n",
            "start Philip Kurian: \"New horizons in quantum biology: Learning complexity, emergence, and coherence...\" Philip Kurian: \"New horizons in quantum biology: Learning complexity, emergence, and coherence...\"\n",
            "no en subtitle in Philip Kurian: \"New horizons in quantum biology: Learning complexity, emergence, and coherence...\" finished\n",
            "no a.en subtitle in Philip Kurian: \"New horizons in quantum biology: Learning complexity, emergence, and coherence...\" finished\n",
            "finish Philip Kurian: \"New horizons in quantum biology: Learning complexity, emergence, and coherence...\"\n",
            "{'title': 'Philip Kurian: \"New horizons in quantum biology: Learning complexity, emergence, and coherence...\"', 'url': 'https://www.youtube.com/watch?v=MZ2L6g7UNFM'}\n",
            "start Nicola De Cao: \"Deep Generative Models for Molecular Graphs\" Nicola De Cao: \"Deep Generative Models for Molecular Graphs\"\n",
            "no en subtitle in Nicola De Cao: \"Deep Generative Models for Molecular Graphs\" finished\n",
            "no a.en subtitle in Nicola De Cao: \"Deep Generative Models for Molecular Graphs\" finished\n",
            "finish Nicola De Cao: \"Deep Generative Models for Molecular Graphs\"\n",
            "{'title': 'Nicola De Cao: \"Deep Generative Models for Molecular Graphs\"', 'url': 'https://www.youtube.com/watch?v=z0lh4kXWt5E'}\n",
            "start Patrick Riley: \"Reinforcement learning for molecular generation\" Patrick Riley: \"Reinforcement learning for molecular generation\"\n",
            "no en subtitle in Patrick Riley: \"Reinforcement learning for molecular generation\" finished\n",
            "no a.en subtitle in Patrick Riley: \"Reinforcement learning for molecular generation\" finished\n",
            "finish Patrick Riley: \"Reinforcement learning for molecular generation\"\n",
            "{'title': 'Patrick Riley: \"Reinforcement learning for molecular generation\"', 'url': 'https://www.youtube.com/watch?v=Vblwv7BeFkA'}\n",
            "start Rafael Gómez-Bombarelli: \"Coarse graining autoencoders and evolutionary learning of atomistic...\" Rafael Gómez-Bombarelli: \"Coarse graining autoencoders and evolutionary learning of atomistic...\"\n",
            "no en subtitle in Rafael Gómez-Bombarelli: \"Coarse graining autoencoders and evolutionary learning of atomistic...\" finished\n",
            "no a.en subtitle in Rafael Gómez-Bombarelli: \"Coarse graining autoencoders and evolutionary learning of atomistic...\" finished\n",
            "finish Rafael Gómez-Bombarelli: \"Coarse graining autoencoders and evolutionary learning of atomistic...\"\n",
            "{'title': 'Rafael Gómez-Bombarelli: \"Coarse graining autoencoders and evolutionary learning of atomistic...\"', 'url': 'https://www.youtube.com/watch?v=l_NfukhR2XU'}\n",
            "start Ross King: \"Automating Science using Robot Scientists\" Ross King: \"Automating Science using Robot Scientists\"\n",
            "no en subtitle in Ross King: \"Automating Science using Robot Scientists\" finished\n",
            "no a.en subtitle in Ross King: \"Automating Science using Robot Scientists\" finished\n",
            "finish Ross King: \"Automating Science using Robot Scientists\"\n",
            "{'title': 'Ross King: \"Automating Science using Robot Scientists\"', 'url': 'https://www.youtube.com/watch?v=Bj1TwqdLBs0'}\n",
            "start Katya Scheinberg: \"Recent advances in Derivative-Free Optimization and its connection to reinfor...\" Katya Scheinberg: \"Recent advances in Derivative-Free Optimization and its connection to reinfor...\"\n",
            "no en subtitle in Katya Scheinberg: \"Recent advances in Derivative-Free Optimization and its connection to reinfor...\" finished\n",
            "no a.en subtitle in Katya Scheinberg: \"Recent advances in Derivative-Free Optimization and its connection to reinfor...\" finished\n",
            "finish Katya Scheinberg: \"Recent advances in Derivative-Free Optimization and its connection to reinfor...\"\n",
            "{'title': 'Katya Scheinberg: \"Recent advances in Derivative-Free Optimization and its connection to reinfor...\"', 'url': 'https://www.youtube.com/watch?v=WyKN8CyFZNI'}\n",
            "start Joshua Agar: \"Automatic Feature Extraction from Hyperspectral Imagery using Deep Recurrent Neura...\" Joshua Agar: \"Automatic Feature Extraction from Hyperspectral Imagery using Deep Recurrent Neura...\"\n",
            "no en subtitle in Joshua Agar: \"Automatic Feature Extraction from Hyperspectral Imagery using Deep Recurrent Neura...\" finished\n",
            "no a.en subtitle in Joshua Agar: \"Automatic Feature Extraction from Hyperspectral Imagery using Deep Recurrent Neura...\" finished\n",
            "finish Joshua Agar: \"Automatic Feature Extraction from Hyperspectral Imagery using Deep Recurrent Neura...\"\n",
            "{'title': 'Joshua Agar: \"Automatic Feature Extraction from Hyperspectral Imagery using Deep Recurrent Neura...\"', 'url': 'https://www.youtube.com/watch?v=Gxf6Tb-b2AA'}\n",
            "start Lars Ruthotto: \"A Numerical Analysis Perspective on Deep Neural Networks\" Lars Ruthotto: \"A Numerical Analysis Perspective on Deep Neural Networks\"\n"
          ]
        }
      ]
    },
    {
      "cell_type": "code",
      "metadata": {
        "id": "0HUktyoBqfJ3"
      },
      "source": [
        ""
      ],
      "execution_count": null,
      "outputs": []
    },
    {
      "cell_type": "code",
      "metadata": {
        "trusted": true,
        "id": "photographic-settle"
      },
      "source": [
        "!cd /content/drive/Shareddrives/OBA/MLPhysicsIPAM2019; tar -cvf /content/drive/Shareddrives/OBA/MLPhysicsIPAM2019.tar ./*\n"
      ],
      "execution_count": null,
      "outputs": []
    },
    {
      "cell_type": "code",
      "metadata": {
        "id": "pR3lmU9GR_VH"
      },
      "source": [
        "!rm -rf /content/drive/Shareddrives/OBA/QE/QuantumEspressoTutorial.tar"
      ],
      "execution_count": null,
      "outputs": []
    },
    {
      "cell_type": "code",
      "metadata": {
        "id": "2R16kp-nB7ol"
      },
      "source": [
        ""
      ],
      "execution_count": null,
      "outputs": []
    }
  ]
}