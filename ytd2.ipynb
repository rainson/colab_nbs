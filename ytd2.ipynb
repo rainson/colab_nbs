{
  "nbformat": 4,
  "nbformat_minor": 0,
  "metadata": {
    "colab": {
      "name": "ytd2.ipynb",
      "provenance": [],
      "collapsed_sections": [],
      "toc_visible": true,
      "include_colab_link": true
    },
    "kernelspec": {
      "name": "python3",
      "display_name": "Python 3"
    }
  },
  "cells": [
    {
      "cell_type": "markdown",
      "metadata": {
        "id": "view-in-github",
        "colab_type": "text"
      },
      "source": [
        "<a href=\"https://colab.research.google.com/github/rainson/colab_nbs/blob/main/ytd2.ipynb\" target=\"_parent\"><img src=\"https://colab.research.google.com/assets/colab-badge.svg\" alt=\"Open In Colab\"/></a>"
      ]
    },
    {
      "cell_type": "markdown",
      "metadata": {
        "id": "oFTpqVcnxbJl"
      },
      "source": [
        "\n",
        "# Basic functions and imports\n"
      ]
    },
    {
      "cell_type": "code",
      "metadata": {
        "id": "F4picDcBWSSh"
      },
      "source": [
        "!pip install pytube\n",
        "!pip install youtube_transcript_api\n",
        "!pip install vtt_to_srt3"
      ],
      "execution_count": null,
      "outputs": []
    },
    {
      "cell_type": "code",
      "metadata": {
        "trusted": true,
        "id": "sacred-reference"
      },
      "source": [
        "from pytube import YouTube, Playlist\n",
        "from youtube_transcript_api import YouTubeTranscriptApi\n",
        "import json\n",
        "import requests\n",
        "from lxml import html\n",
        "from vtt_to_srt import vtt_to_srt\n",
        "\n",
        "# from vtt_to_srt import vtts_to_srt\n",
        "from youtube_transcript_api.formatters import JSONFormatter\n",
        "from youtube_transcript_api.formatters import TextFormatter\n",
        "from youtube_transcript_api.formatters import WebVTTFormatter"
      ],
      "execution_count": 2,
      "outputs": []
    },
    {
      "cell_type": "code",
      "metadata": {
        "id": "7lPO0LTlYcFr",
        "colab": {
          "base_uri": "https://localhost:8080/"
        },
        "outputId": "1b36c983-2d76-463f-a936-00d93f73a837"
      },
      "source": [
        "from google.colab import drive\n",
        "drive.mount('/content/drive')"
      ],
      "execution_count": 3,
      "outputs": [
        {
          "output_type": "stream",
          "text": [
            "Mounted at /content/drive\n"
          ],
          "name": "stdout"
        }
      ]
    },
    {
      "cell_type": "code",
      "metadata": {
        "trusted": true,
        "id": "victorian-minister"
      },
      "source": [
        "\n",
        "def download(yturl,out_dir,idx=None):\n",
        "  formatter = WebVTTFormatter()\n",
        "  yt = YouTube(yturl)\n",
        "  yt.streams.filter(file_extension=\"mp4\")\n",
        "  _title = yt.title\n",
        "  # title=\" \".join([s.capitalize() for s in title.split(\" \")])\n",
        "  title = idx\n",
        "  # if idx is not None:\n",
        "  #   title=\"{}\".format(idx)+title\n",
        "  print(\"start {} {}\".format(title, _title))\n",
        "  try:\n",
        "    yt.streams.get_by_itag(22).download(output_path=out_dir,filename=title)\n",
        "  except Exception:\n",
        "    yt.streams.get_by_itag(18).download(output_path=out_dir,filename=title)\n",
        "\n",
        "  try:\n",
        "    caption = yt.captions[\"en\"]\n",
        "    caption.download(title=title,output_path=out_dir)\n",
        "  except Exception as ex:\n",
        "    print(f\"no en subtitle in {yt.title} finished\")\n",
        "  try:\n",
        "    caption = yt.captions[\"a.en\"]\n",
        "    caption.download(title=title,output_path=out_dir)\n",
        "  except Exception as ex:\n",
        "    print(f\"no a.en subtitle in {yt.title} finished\")\n",
        "  \n",
        "\n",
        "  try:\n",
        "    transcript_list = YouTubeTranscriptApi.list_transcripts(yt.video_id)\n",
        "    transcript_list\n",
        "\n",
        "    transcript = transcript_list.find_transcript(['en'])\n",
        "    translated_transcript = transcript.translate('zh-Hans')\n",
        "    zh_trans = translated_transcript.fetch()\n",
        "    en_trans = transcript.fetch()\n",
        "\n",
        "    zh_trans = formatter.format_transcript(zh_trans)\n",
        "    en_trans=formatter.format_transcript(en_trans)\n",
        "\n",
        "    fname = out_dir+\"/{}(en).vtt\".format(title)\n",
        "    with open(fname, \"w\") as fh:\n",
        "        fh.write(en_trans)\n",
        "    # vtt_to_srt(fname)\n",
        "    fname = out_dir+\"/{}(zh).vtt\".format(title)\n",
        "    with open(fname, \"w\") as fh:\n",
        "        fh.write(zh_trans)\n",
        "    # vtt_to_srt(fname)\n",
        "    fname =  out_dir+\"/{}(zhen).vtt\".format(title)\n",
        "    with open(fname, \"w\") as fh:\n",
        "        fh.write(zh_trans+en_trans)\n",
        "    # vtt_to_srt(fname)\n",
        "  except Exception:\n",
        "    pass\n",
        "  print(\"finish {}\".format(title))\n",
        "  return _title"
      ],
      "execution_count": 4,
      "outputs": []
    },
    {
      "cell_type": "markdown",
      "metadata": {
        "id": "xvPFj8MUgh24"
      },
      "source": [
        "# Find urls in one page\n"
      ]
    },
    {
      "cell_type": "code",
      "metadata": {
        "id": "xHis1o08EYfh",
        "colab": {
          "base_uri": "https://localhost:8080/"
        },
        "outputId": "b034828d-0ea9-4299-b706-cf9be7abadb1"
      },
      "source": [
        "import re\n",
        "# page_url = \"https://www.youtube.com/channel/UCAKQnU09rjmdVRb3iAogCiQ/videos\" #Atomic scale Jose Lado\n",
        "# page_url = \"https://www.youtube.com/c/ILSIITR/videos\" #MOU Institute Lecture Series\n",
        "# page_url = \"https://www.youtube.com/channel/UCM06KiUOw1vRrmvD8U274Ww/videos\" #Harvard CMSA quantum-matter-seminar\n",
        "page_url = \"https://www.youtube.com/c/QuantumInformationSociety/videos\" #https://quantum-information-society.webnode.co.uk/\n",
        "page = requests.get(page_url)\n",
        "webpage = html.fromstring(page.content)\n",
        "\n",
        "video_ids = re.findall(r\"watch\\?v=(\\S{11})\", page.content.decode())\n",
        "print(video_ids)\n",
        "urls = [\"https://www.youtube.com/watch?v={}\".format(vid) for vid in video_ids]\n",
        "urls = urls[::-1] # reversed for some special case\n",
        "\n",
        "out_dir = \"/content/drive/Shareddrives/OBA/oxfordQuantum/QuantumInfoSociety\""
      ],
      "execution_count": 9,
      "outputs": [
        {
          "output_type": "stream",
          "text": [
            "['CnsQRValXdk', 'abJ8kQ9zrHA', 'pf55IJnujlY', '0_t32jmrm3E', 'cQHy8OEVRaw', 'R79rYjLT5Os', '4rMDeHPuFVk', '6e5G1DVMQyU', 'GGzRykeAiY0', 'DzN_0Kd2H5c', 'sJY7dlll8LY', '7o_uY-3IMRI', '-1CdCJXC9Dg', '0Y7VYyTz_IY', 'spl2cRsu4g8', '1IdOMEJKw0Q', 'Va7nvAywhW8', 'WUo9CHN1_UA', '7cghSq0qgdE', 'NH_l_eofIV0', 'M_VsygYJnps', 'Wavq4bf2Euk', 'lS9h2nWbar8']\n"
          ],
          "name": "stdout"
        }
      ]
    },
    {
      "cell_type": "markdown",
      "metadata": {
        "id": "4sLVLVkE6mKr"
      },
      "source": [
        "# Urls in playlist\n"
      ]
    },
    {
      "cell_type": "code",
      "metadata": {
        "id": "Vqmvti516sQM",
        "colab": {
          "base_uri": "https://localhost:8080/"
        },
        "outputId": "1fda5aa4-94d5-4742-c9a7-9dce11c22e13"
      },
      "source": [
        "# plisturl = \"https://www.youtube.com/playlist?list=PL7OOhDqj9FBuK3han8ipaKnz2SaGUjvGx\"# topo cm\n",
        "# plisturl=\"https://www.youtube.com/playlist?list=PLygH4pJ_4EhrwydaPvccVQYt1W6ytaYbU\" # tms19\n",
        "# plisturl = \"https://www.youtube.com/playlist?list=PLygH4pJ_4EhogZda-GSFOBhlr2lSHn_p2\" #tms18\n",
        "# plisturl = \"https://www.youtube.com/playlist?list=PLVqoFIN-64LnUQxbX2FeIGYQgX_VTWm-m\" #tms17\n",
        "# plisturl = \"https://www.youtube.com/playlist?list=PLLv6hTkOwhEl1itfLvR-IcvOFt-aCxSzy\" tms16\n",
        "# plisturl = \"https://www.youtube.com/playlist?list=PLE9Qrf4CJnRHxa_OwN7xc2bXacnWzCy1x\" #opensys1\n",
        "# plisturl = \"https://www.youtube.com/playlist?list=PLd9T7y2ABtzJuN2YgujzWZ6fL-llEyuUd\" #opensys2\n",
        "# plisturl = \"https://www.youtube.com/watch?v=g2RwzmG0spo&list=PL2IOBr0XELQSaB14lQgdFNvKHzs0W15hh\" #UTphysics2020\n",
        "# plisturl = \"https://www.youtube.com/watch?v=BSV8zKbKc_Y&list=PL2IOBr0XELQQUjDBrh2tvSHhjHu9PHFYF\"\n",
        "# plisturl = \"https://www.youtube.com/playlist?list=PLZee5Mirzz8ULGEdfuWM0DaoM-Yqtz9r8\" #pcmp2014\n",
        "# plisturl = \"https://www.youtube.com/playlist?list=PLZee5Mirzz8WkK2EtlY1De7msJ6x9vP3T\" #pcmp2015\n",
        "# plisturl = \"https://www.youtube.com/playlist?list=PLZee5Mirzz8UaZUDJZmh1BCV3xIjEPNEw\" #pcmp2016\n",
        "# plisturl = \"https://www.youtube.com/playlist?list=PL04QVxpjcnjgmUoD6tlO_0YT1k5GYgQWi\" #flucations in non equlibrium \n",
        "# plisturl = \"https://www.youtube.com/playlist?list=PLgLljLUllyOcO6g2hoVlPiIKYYdpnlrwP\" #IQUIST Seminars need reversed 更新中 https://iquist.illinois.edu/events/virtual-seminar-series\n",
        "# plisturl = \"https://www.youtube.com/playlist?list=PL0NRmB0fnLJQAnYwkpt9PN2PBKx4rvdup\" #Quantum Matter Program Havard\n",
        "# plisturl = \"https://www.youtube.com/playlist?list=PLqJ4D_Db7W_qBCNdmJ2QaoenrXWCs82v0\" #vsf speaker's corner need reversed\n",
        "# plisturl=\"https://www.youtube.com/playlist?list=PLVk0rija2HWzNDNmoScO8HyxgsraJp2nh\" #Online Spintronics Seminar 更新中https://www.spintalks.org/home\n",
        "# plisturl = \"https://www.youtube.com/playlist?list=PLGntAYRT8AVkDw1cPtAvp70rrl3nAXdOG\" # vasp1\n",
        "# plisturl = \"https://www.youtube.com/playlist?list=PLGntAYRT8AVk9EV5Fm8qRboc3RCReTqGm\" #Quanutmnerd Hands on qe 2019\n",
        "# plisturl = \"https://www.youtube.com/playlist?list=PLZee5Mirzz8WI_Un45uDkTgFjhqg7LI0f\" #2020 Princeton Summer School on Condensed Matter Physics (PSSCMP) PCCM\n",
        "# plisturl = \"https://www.youtube.com/playlist?list=PLeBrR2z7Wz568HmEJTnlSuKbvhKp9V8OF\" #Exciton Science online tutorials 2021  https://excitonscience.com/tutorials\n",
        "# plisturl = \"https://www.youtube.com/playlist?list=PLGntAYRT8AVmQMyurFoncyOdHljqeGU_R\" #Projects: Quantum Espresso Tutorial 2019\n",
        "# plisturl = \"https://www.youtube.com/playlist?list=PLoazKTcS0RzZ1SUgeOgc6SWt51gfT80N0\" #Brady Neal - Causal Inference\n",
        "# plisturl = \"https://www.youtube.com/playlist?list=PLoazKTcS0Rzb6bb9L508cyJ1z-U9iWkA0\" #Brady Neal - Causal Inference small\n",
        "# plisturl = \"https://www.youtube.com/playlist?list=PL0CLfRiRFyPDQqc0QQPdjwSKDUMdUND1Z\" #Quantum Matrials And Devices Seminars\n",
        "plisturl = \"https://www.youtube.com/playlist?list=PLCUz8Ub-ThaREyTLSBwz-cCwoOzw7jLNU\" # MOU #1\n",
        "\n",
        "plist = Playlist(plisturl)\n",
        "urls = plist.video_urls\n",
        "# urls = urls[::-1] # reversed for some special case\n",
        "# out_dir = \"/content/drive/Shareddrives/OBA/TCM\"\n",
        "# out_dir = \"/content/drive/Shareddrives/OBA/IQUISTSeminars\"\n",
        "# out_dir = \"/content/drive/Shareddrives/OBA/HarvardCMSA/QuantumMatterProgram\"\n",
        "# out_dir = \"/content/drive/Shareddrives/OBA/VSF/SpeakerCorner\"\n",
        "# out_dir = \"/content/drive/Shareddrives/OBA/OnlineSpintronicsSeminar\"\n",
        "# out_dir = \"/content/drive/Shareddrives/OBA/vasp/vasp1\"\n",
        "# out_dir = \"/content/drive/Shareddrives/OBA/QE/Hands-onQuantumEspressoTutorial2019\"\n",
        "# out_dir = \"/content/drive/Shareddrives/OBA/PCCM/PSSCMP2020\"\n",
        "# out_dir = \"/content/drive/Shareddrives/OBA/ExcitonScienceDft\"\n",
        "# out_dir = \"/content/drive/Shareddrives/OBA/QE/QuantumEspressoTutorial\"\n",
        "# out_dir = \"/content/drive/Shareddrives/OBA/QuantumMatrialsAndDevicesSeminars\"\n",
        "out_dir = \"/content/drive/Shareddrives/OBA/MOU/MOU1\"\n",
        "print(len(urls))"
      ],
      "execution_count": 5,
      "outputs": [
        {
          "output_type": "stream",
          "text": [
            "5\n"
          ],
          "name": "stdout"
        }
      ]
    },
    {
      "cell_type": "markdown",
      "metadata": {
        "id": "C0ISLgVAw71y"
      },
      "source": [
        "# Url manully\n"
      ]
    },
    {
      "cell_type": "code",
      "metadata": {
        "id": "iaDFa8IaxBfJ"
      },
      "source": [
        "## non hermitian 2021\n",
        "# urls = [\"https://www.youtube.com/watch?v=MiyTEVq8BJ0\",\n",
        "#         \"https://www.youtube.com/watch?v=wor5vdmBH_E\",\n",
        "#         \"https://www.youtube.com/watch?v=s3qXZbU7ivk\",\n",
        "#         \"https://www.youtube.com/watch?v=ON8hMzgLEHo\",\n",
        "#         \"https://www.youtube.com/watch?v=gtC1LBLYrPk\",\n",
        "#         \"https://www.youtube.com/watch?v=b1qrdafHMp0\",\n",
        "#         \"https://www.youtube.com/watch?v=xcIFxekzy3Q\",\n",
        "#         \"https://www.youtube.com/watch?v=BnIuitcOhmE\",\n",
        "#         \"https://www.youtube.com/watch?v=1zV49ovoGN8\",\n",
        "#         \"https://www.youtube.com/watch?v=Tpm0rSPw_9I\"\n",
        "#         ] "
      ],
      "execution_count": null,
      "outputs": []
    },
    {
      "cell_type": "markdown",
      "metadata": {
        "id": "t3Fc865Xw2mt"
      },
      "source": [
        "# Download task"
      ]
    },
    {
      "cell_type": "code",
      "metadata": {
        "id": "gdJp9FKFkCZQ"
      },
      "source": [
        "titles = dict()\n",
        "title_name = \"title\"\n",
        "url_name = \"url\"\n",
        "for idx, yturl in enumerate(urls): #plist.video_urls\n",
        "  try:\n",
        "    idx = f\"{idx}\"\n",
        "    info = dict()\n",
        "    title = download(yturl, out_dir,idx=idx)\n",
        "    info[title_name] = title\n",
        "    info[url_name] = yturl\n",
        "    titles[idx] = info\n",
        "    print(info)\n",
        "\n",
        "  except Exception as ex:\n",
        "    print(f\"exception {ex}\")\n",
        "vtt_to_srt.vtts_to_srt(out_dir, rec = True)\n"
      ],
      "execution_count": null,
      "outputs": []
    },
    {
      "cell_type": "code",
      "metadata": {
        "id": "0HUktyoBqfJ3"
      },
      "source": [
        "import json\n",
        "import os\n",
        "title_file = \"titles.json\"\n",
        "data_path =os.path.join(out_dir, title_file) \n",
        "with open(data_path,\"w\", encoding=\"utf-8\") as fh:\n",
        "    json.dump(titles, fh)\n"
      ],
      "execution_count": 7,
      "outputs": []
    },
    {
      "cell_type": "code",
      "metadata": {
        "trusted": true,
        "id": "photographic-settle"
      },
      "source": [
        "!cd /content/drive/Shareddrives/OBA/oxfordQuantum/QuantumInfoSociety; tar -cvf /content/drive/Shareddrives/OBA/QuantumInfoSociety.tar ./*\n"
      ],
      "execution_count": null,
      "outputs": []
    },
    {
      "cell_type": "code",
      "metadata": {
        "id": "pR3lmU9GR_VH"
      },
      "source": [
        "!rm -rf /content/drive/Shareddrives/OBA/HarvardCMSA/*"
      ],
      "execution_count": null,
      "outputs": []
    },
    {
      "cell_type": "code",
      "metadata": {
        "id": "2R16kp-nB7ol"
      },
      "source": [
        ""
      ],
      "execution_count": null,
      "outputs": []
    }
  ]
}