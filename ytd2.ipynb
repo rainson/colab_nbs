{
  "nbformat": 4,
  "nbformat_minor": 0,
  "metadata": {
    "colab": {
      "name": "ytd2.ipynb",
      "provenance": [],
      "collapsed_sections": [],
      "include_colab_link": true
    },
    "kernelspec": {
      "name": "python3",
      "display_name": "Python 3"
    }
  },
  "cells": [
    {
      "cell_type": "markdown",
      "metadata": {
        "id": "view-in-github",
        "colab_type": "text"
      },
      "source": [
        "<a href=\"https://colab.research.google.com/github/rainson/colab_nbs/blob/main/ytd2.ipynb\" target=\"_parent\"><img src=\"https://colab.research.google.com/assets/colab-badge.svg\" alt=\"Open In Colab\"/></a>"
      ]
    },
    {
      "cell_type": "markdown",
      "metadata": {
        "id": "oFTpqVcnxbJl"
      },
      "source": [
        "\n",
        "# Basic functions and imports\n"
      ]
    },
    {
      "cell_type": "code",
      "metadata": {
        "id": "F4picDcBWSSh"
      },
      "source": [
        "!pip install pytube\n",
        "!pip install youtube_transcript_api\n",
        "!pip install vtt_to_srt3"
      ],
      "execution_count": null,
      "outputs": []
    },
    {
      "cell_type": "code",
      "metadata": {
        "trusted": true,
        "id": "sacred-reference"
      },
      "source": [
        "from pytube import YouTube, Playlist\n",
        "from youtube_transcript_api import YouTubeTranscriptApi\n",
        "import json\n",
        "import requests\n",
        "from lxml import html\n",
        "from vtt_to_srt import vtt_to_srt\n",
        "\n",
        "# from vtt_to_srt import vtts_to_srt\n",
        "from youtube_transcript_api.formatters import JSONFormatter\n",
        "from youtube_transcript_api.formatters import TextFormatter\n",
        "from youtube_transcript_api.formatters import WebVTTFormatter"
      ],
      "execution_count": 2,
      "outputs": []
    },
    {
      "cell_type": "code",
      "metadata": {
        "colab": {
          "base_uri": "https://localhost:8080/"
        },
        "id": "7lPO0LTlYcFr",
        "outputId": "3ff09b50-4199-49b3-966c-048199358bc6"
      },
      "source": [
        "from google.colab import drive\n",
        "drive.mount('/content/drive')"
      ],
      "execution_count": 3,
      "outputs": [
        {
          "output_type": "stream",
          "text": [
            "Mounted at /content/drive\n"
          ],
          "name": "stdout"
        }
      ]
    },
    {
      "cell_type": "code",
      "metadata": {
        "trusted": true,
        "id": "victorian-minister"
      },
      "source": [
        "\n",
        "def download(yturl,out_dir,idx=None):\n",
        "  formatter = WebVTTFormatter()\n",
        "  yt = YouTube(yturl)\n",
        "  yt.streams.filter(file_extension=\"mp4\")\n",
        "  title = yt.title\n",
        "  # title=\" \".join([s.capitalize() for s in title.split(\" \")])\n",
        "  if idx is not None:\n",
        "    title=\"{}\".format(idx)+title\n",
        "  print(\"start {}\".format(title))\n",
        "  try:\n",
        "    yt.streams.get_by_itag(22).download(output_path=out_dir,filename=title)\n",
        "  except Exception:\n",
        "    yt.streams.get_by_itag(18).download(output_path=out_dir,filename=title)\n",
        "\n",
        "  try:\n",
        "    caption = yt.captions[\"en\"]\n",
        "    caption.download(title=title,output_path=out_dir)\n",
        "  except Exception as ex:\n",
        "    print(f\"no en subtitle in {yt.title} finished\")\n",
        "  try:\n",
        "    caption = yt.captions[\"a.en\"]\n",
        "    caption.download(title=title,output_path=out_dir)\n",
        "  except Exception as ex:\n",
        "    print(f\"no a.en subtitle in {yt.title} finished\")\n",
        "  \n",
        "\n",
        "  try:\n",
        "    transcript_list = YouTubeTranscriptApi.list_transcripts(yt.video_id)\n",
        "    transcript_list\n",
        "\n",
        "    transcript = transcript_list.find_transcript(['en'])\n",
        "    translated_transcript = transcript.translate('zh-Hans')\n",
        "    zh_trans = translated_transcript.fetch()\n",
        "    en_trans = transcript.fetch()\n",
        "\n",
        "    zh_trans = formatter.format_transcript(zh_trans)\n",
        "    en_trans=formatter.format_transcript(en_trans)\n",
        "\n",
        "    fname = out_dir+\"/{}(en).vtt\".format(title)\n",
        "    with open(fname, \"w\") as fh:\n",
        "        fh.write(en_trans)\n",
        "    # vtt_to_srt(fname)\n",
        "    fname = out_dir+\"/{}(zh).vtt\".format(title)\n",
        "    with open(fname, \"w\") as fh:\n",
        "        fh.write(zh_trans)\n",
        "    # vtt_to_srt(fname)\n",
        "    fname =  out_dir+\"/{}(zhen).vtt\".format(title)\n",
        "    with open(fname, \"w\") as fh:\n",
        "        fh.write(zh_trans+en_trans)\n",
        "    # vtt_to_srt(fname)\n",
        "  except Exception:\n",
        "    pass\n",
        "  print(\"finish {}\".format(title))"
      ],
      "execution_count": 5,
      "outputs": []
    },
    {
      "cell_type": "markdown",
      "metadata": {
        "id": "xvPFj8MUgh24"
      },
      "source": [
        "# Find urls in one page\n"
      ]
    },
    {
      "cell_type": "code",
      "metadata": {
        "id": "xHis1o08EYfh",
        "colab": {
          "base_uri": "https://localhost:8080/"
        },
        "outputId": "1cbcf9ad-d54a-4d41-9852-9bc936aa4e2e"
      },
      "source": [
        "import re\n",
        "# page_url = \"https://www.youtube.com/channel/UCAKQnU09rjmdVRb3iAogCiQ/videos\" #Atomic scale Jose Lado\n",
        "# page_url = \"https://www.youtube.com/c/ILSIITR/videos\" #MOU Institute Lecture Series\n",
        "page_url = \"https://www.youtube.com/channel/UCM06KiUOw1vRrmvD8U274Ww/videos\" #Harvard CMSA quantum-matter-seminar\n",
        "page = requests.get(page_url)\n",
        "webpage = html.fromstring(page.content)\n",
        "\n",
        "video_ids = re.findall(r\"watch\\?v=(\\S{11})\", page.content.decode())\n",
        "print(video_ids)\n",
        "urls = [\"https://www.youtube.com/watch?v={}\".format(vid) for vid in video_ids]\n",
        "urls = urls[::-1] # reversed for some special case\n",
        "\n",
        "out_dir = \"/content/drive/Shareddrives/OBA/HarvardCMSA\""
      ],
      "execution_count": null,
      "outputs": [
        {
          "output_type": "stream",
          "text": [
            "['uYmA14y5gro', 'cK186hBlMms', 'WjfaMl6-Tek', 'CRlsuQKnGLk', 'R7rG5aRaWcE', 'RNvMDKnevlE', 'fyyPvGl7Zj0', 'JML1hlheVKo', 'edD-omyVSMM', 'ISOXhkzdpyc', 'UOaCmF1JEeU', '5een8U5cfbI', 'W2ArMz3J2gI', 'UnUQePiSGKo', 'x24KlhARrKA', 'QfTVaUjn_yg', 'wtaC0tqXZMU', 'T97wv7767AE', 'aVhHTmOUxHQ', 'AxWWOrM53bI', 'mYKlMyTWOhc', 'jGuzgdmtOhQ', 'vo8Yoqh9gb0', '068iZvB2b-Y', '_-nAVEtX4nE', 'mAYnLdi3vs4', 'tTpbHL7cZ5Y', '7Q8GvzJT-aM', 'ZoGfKvCxV6w', 'bERRfF7n9Hg']\n"
          ],
          "name": "stdout"
        }
      ]
    },
    {
      "cell_type": "markdown",
      "metadata": {
        "id": "4sLVLVkE6mKr"
      },
      "source": [
        "# Urls in playlist\n"
      ]
    },
    {
      "cell_type": "code",
      "metadata": {
        "id": "Vqmvti516sQM",
        "colab": {
          "base_uri": "https://localhost:8080/"
        },
        "outputId": "cf75580a-ac6a-4c1e-9aec-fbeb4d52b64d"
      },
      "source": [
        "# plisturl = \"https://www.youtube.com/playlist?list=PL7OOhDqj9FBuK3han8ipaKnz2SaGUjvGx\"# topo cm\n",
        "# plisturl=\"https://www.youtube.com/playlist?list=PLygH4pJ_4EhrwydaPvccVQYt1W6ytaYbU\" # tms19\n",
        "# plisturl = \"https://www.youtube.com/playlist?list=PLygH4pJ_4EhogZda-GSFOBhlr2lSHn_p2\" #tms18\n",
        "# plisturl = \"https://www.youtube.com/playlist?list=PLVqoFIN-64LnUQxbX2FeIGYQgX_VTWm-m\" #tms17\n",
        "# plisturl = \"https://www.youtube.com/playlist?list=PLLv6hTkOwhEl1itfLvR-IcvOFt-aCxSzy\" tms16\n",
        "# plisturl = \"https://www.youtube.com/playlist?list=PLE9Qrf4CJnRHxa_OwN7xc2bXacnWzCy1x\" #opensys1\n",
        "# plisturl = \"https://www.youtube.com/playlist?list=PLd9T7y2ABtzJuN2YgujzWZ6fL-llEyuUd\" #opensys2\n",
        "# plisturl = \"https://www.youtube.com/watch?v=g2RwzmG0spo&list=PL2IOBr0XELQSaB14lQgdFNvKHzs0W15hh\" #UTphysics2020\n",
        "# plisturl = \"https://www.youtube.com/watch?v=BSV8zKbKc_Y&list=PL2IOBr0XELQQUjDBrh2tvSHhjHu9PHFYF\"\n",
        "# plisturl = \"https://www.youtube.com/playlist?list=PLZee5Mirzz8ULGEdfuWM0DaoM-Yqtz9r8\" #pcmp2014\n",
        "# plisturl = \"https://www.youtube.com/playlist?list=PLZee5Mirzz8WkK2EtlY1De7msJ6x9vP3T\" #pcmp2015\n",
        "# plisturl = \"https://www.youtube.com/playlist?list=PLZee5Mirzz8UaZUDJZmh1BCV3xIjEPNEw\" #pcmp2016\n",
        "# plisturl = \"https://www.youtube.com/playlist?list=PL04QVxpjcnjgmUoD6tlO_0YT1k5GYgQWi\" #flucations in non equlibrium \n",
        "# plisturl = \"https://www.youtube.com/playlist?list=PLgLljLUllyOcO6g2hoVlPiIKYYdpnlrwP\" #IQUIST Seminars need reversed 更新中 https://iquist.illinois.edu/events/virtual-seminar-series\n",
        "# plisturl = \"https://www.youtube.com/playlist?list=PL0NRmB0fnLJQAnYwkpt9PN2PBKx4rvdup\" #Quantum Matter Program Havard\n",
        "# plisturl = \"https://www.youtube.com/playlist?list=PLqJ4D_Db7W_qBCNdmJ2QaoenrXWCs82v0\" #vsf speaker's corner need reversed\n",
        "# plisturl=\"https://www.youtube.com/playlist?list=PLVk0rija2HWzNDNmoScO8HyxgsraJp2nh\" #Online Spintronics Seminar 更新中https://www.spintalks.org/home\n",
        "# plisturl = \"https://www.youtube.com/playlist?list=PLGntAYRT8AVkDw1cPtAvp70rrl3nAXdOG\" # vasp1\n",
        "# plisturl = \"https://www.youtube.com/playlist?list=PLGntAYRT8AVk9EV5Fm8qRboc3RCReTqGm\" #Quanutmnerd Hands on qe 2019\n",
        "plisturl = \"https://www.youtube.com/playlist?list=PLZee5Mirzz8WI_Un45uDkTgFjhqg7LI0f\" #2020 Princeton Summer School on Condensed Matter Physics (PSSCMP) PCCM\n",
        "\n",
        "\n",
        "plist = Playlist(plisturl)\n",
        "urls = plist.video_urls\n",
        "# urls = urls[::-1] # reversed for some special case\n",
        "# out_dir = \"/content/drive/Shareddrives/OBA/IQUISTSeminars\"\n",
        "# out_dir = \"/content/drive/Shareddrives/OBA/HarvardCMSA/QuantumMatterProgram\"\n",
        "# out_dir = \"/content/drive/Shareddrives/OBA/VSF/SpeakerCorner\"\n",
        "# out_dir = \"/content/drive/Shareddrives/OBA/OnlineSpintronicsSeminar\"\n",
        "# out_dir = \"/content/drive/Shareddrives/OBA/vasp/vasp1\"\n",
        "# out_dir = \"/content/drive/Shareddrives/OBA/QE/Hands-onQuantumEspressoTutorial2019\"\n",
        "out_dir = \"/content/drive/Shareddrives/OBA/PCCM/PSSCMP2020\"\n",
        "print(len(urls))"
      ],
      "execution_count": 4,
      "outputs": [
        {
          "output_type": "stream",
          "text": [
            "14\n"
          ],
          "name": "stdout"
        }
      ]
    },
    {
      "cell_type": "markdown",
      "metadata": {
        "id": "C0ISLgVAw71y"
      },
      "source": [
        "# Url manully\n"
      ]
    },
    {
      "cell_type": "code",
      "metadata": {
        "id": "iaDFa8IaxBfJ"
      },
      "source": [
        "## non hermitian 2021\n",
        "# urls = [\"https://www.youtube.com/watch?v=MiyTEVq8BJ0\",\n",
        "#         \"https://www.youtube.com/watch?v=wor5vdmBH_E\",\n",
        "#         \"https://www.youtube.com/watch?v=s3qXZbU7ivk\",\n",
        "#         \"https://www.youtube.com/watch?v=ON8hMzgLEHo\",\n",
        "#         \"https://www.youtube.com/watch?v=gtC1LBLYrPk\",\n",
        "#         \"https://www.youtube.com/watch?v=b1qrdafHMp0\",\n",
        "#         \"https://www.youtube.com/watch?v=xcIFxekzy3Q\",\n",
        "#         \"https://www.youtube.com/watch?v=BnIuitcOhmE\",\n",
        "#         \"https://www.youtube.com/watch?v=1zV49ovoGN8\",\n",
        "#         \"https://www.youtube.com/watch?v=Tpm0rSPw_9I\"\n",
        "#         ] "
      ],
      "execution_count": null,
      "outputs": []
    },
    {
      "cell_type": "markdown",
      "metadata": {
        "id": "t3Fc865Xw2mt"
      },
      "source": [
        "# Download task"
      ]
    },
    {
      "cell_type": "code",
      "metadata": {
        "id": "gdJp9FKFkCZQ",
        "outputId": "724e9899-3a0d-4691-fc7d-91dbd3c19449",
        "colab": {
          "base_uri": "https://localhost:8080/"
        }
      },
      "source": [
        "for idx, yturl in enumerate(urls): #plist.video_urls\n",
        "  try:\n",
        "    download(yturl, out_dir,idx=None)\n",
        "  except Exception as ex:\n",
        "    print(f\"exception {ex}\")\n",
        "vtt_to_srt.vtts_to_srt(out_dir, rec = True)"
      ],
      "execution_count": null,
      "outputs": [
        {
          "output_type": "stream",
          "text": [
            "start Prof. Leslie Schoop: \"Using Chemical Logic for the Design of New Quantum Materials\"\n",
            "no en subtitle in Prof. Leslie Schoop: \"Using Chemical Logic for the Design of New Quantum Materials\" finished\n",
            "finish Prof. Leslie Schoop: \"Using Chemical Logic for the Design of New Quantum Materials\"\n",
            "start Prof. Leon Balents: \"Spin Liquids\" (Lecture 1 of 2)\n"
          ],
          "name": "stdout"
        }
      ]
    },
    {
      "cell_type": "code",
      "metadata": {
        "trusted": true,
        "id": "photographic-settle"
      },
      "source": [
        "!cd /content/drive/Shareddrives/OBA/PCCM/PSSCMP2020; tar -cvf /content/drive/Shareddrives/OBA/PSSCMP2020.tar ./*\n"
      ],
      "execution_count": null,
      "outputs": []
    },
    {
      "cell_type": "code",
      "metadata": {
        "id": "pR3lmU9GR_VH"
      },
      "source": [
        "!rm -rf /content/drive/Shareddrives/OBA/HarvardCMSA/*"
      ],
      "execution_count": null,
      "outputs": []
    },
    {
      "cell_type": "code",
      "metadata": {
        "id": "2R16kp-nB7ol"
      },
      "source": [
        ""
      ],
      "execution_count": null,
      "outputs": []
    }
  ]
}