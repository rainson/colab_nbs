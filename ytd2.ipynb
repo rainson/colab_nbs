{
  "nbformat": 4,
  "nbformat_minor": 0,
  "metadata": {
    "colab": {
      "name": "ytd2.ipynb",
      "provenance": [],
      "collapsed_sections": [],
      "toc_visible": true,
      "include_colab_link": true
    },
    "kernelspec": {
      "name": "python3",
      "display_name": "Python 3"
    }
  },
  "cells": [
    {
      "cell_type": "markdown",
      "metadata": {
        "id": "view-in-github",
        "colab_type": "text"
      },
      "source": [
        "<a href=\"https://colab.research.google.com/github/rainson/colab_nbs/blob/main/ytd2.ipynb\" target=\"_parent\"><img src=\"https://colab.research.google.com/assets/colab-badge.svg\" alt=\"Open In Colab\"/></a>"
      ]
    },
    {
      "cell_type": "markdown",
      "metadata": {
        "id": "oFTpqVcnxbJl"
      },
      "source": [
        "\n",
        "# Basic functions and imports\n"
      ]
    },
    {
      "cell_type": "code",
      "metadata": {
        "id": "F4picDcBWSSh"
      },
      "source": [
        "!pip install pytube\n",
        "!pip install youtube_transcript_api\n",
        "!pip install vtt_to_srt3"
      ],
      "execution_count": null,
      "outputs": []
    },
    {
      "cell_type": "code",
      "metadata": {
        "trusted": true,
        "id": "sacred-reference"
      },
      "source": [
        "from pytube import YouTube, Playlist\n",
        "from youtube_transcript_api import YouTubeTranscriptApi\n",
        "import json\n",
        "import requests\n",
        "from lxml import html\n",
        "from vtt_to_srt import vtt_to_srt\n",
        "\n",
        "# from vtt_to_srt import vtts_to_srt\n",
        "from youtube_transcript_api.formatters import JSONFormatter\n",
        "from youtube_transcript_api.formatters import TextFormatter\n",
        "from youtube_transcript_api.formatters import WebVTTFormatter"
      ],
      "execution_count": 2,
      "outputs": []
    },
    {
      "cell_type": "code",
      "metadata": {
        "colab": {
          "base_uri": "https://localhost:8080/"
        },
        "id": "7lPO0LTlYcFr",
        "outputId": "9c62fb42-0d3b-4b0d-8b9a-d10cf885708b"
      },
      "source": [
        "from google.colab import drive\n",
        "drive.mount('/content/drive')"
      ],
      "execution_count": 3,
      "outputs": [
        {
          "output_type": "stream",
          "text": [
            "Go to this URL in a browser: https://accounts.google.com/o/oauth2/auth?client_id=947318989803-6bn6qk8qdgf4n4g3pfee6491hc0brc4i.apps.googleusercontent.com&redirect_uri=urn%3aietf%3awg%3aoauth%3a2.0%3aoob&scope=email%20https%3a%2f%2fwww.googleapis.com%2fauth%2fdocs.test%20https%3a%2f%2fwww.googleapis.com%2fauth%2fdrive%20https%3a%2f%2fwww.googleapis.com%2fauth%2fdrive.photos.readonly%20https%3a%2f%2fwww.googleapis.com%2fauth%2fpeopleapi.readonly%20https%3a%2f%2fwww.googleapis.com%2fauth%2fdrive.activity.readonly%20https%3a%2f%2fwww.googleapis.com%2fauth%2fexperimentsandconfigs%20https%3a%2f%2fwww.googleapis.com%2fauth%2fphotos.native&response_type=code\n",
            "\n",
            "Enter your authorization code:\n",
            "4/1AY0e-g5vjgkJXUafe3LWezikYRDOSNSP4JKwwGMBh3Ncf3_nbUgU3VZ27Fo\n",
            "Mounted at /content/drive\n"
          ],
          "name": "stdout"
        }
      ]
    },
    {
      "cell_type": "code",
      "metadata": {
        "trusted": true,
        "id": "victorian-minister"
      },
      "source": [
        "\n",
        "def download(yturl,out_dir,idx=None):\n",
        "  formatter = WebVTTFormatter()\n",
        "  yt = YouTube(yturl)\n",
        "  yt.streams.filter(file_extension=\"mp4\")\n",
        "  title = yt.title\n",
        "  title=\" \".join([s.capitalize() for s in title.split(\" \")])\n",
        "  if idx is not None:\n",
        "    title=\"{}\".format(idx)+title\n",
        "  print(\"start {}\".format(title))\n",
        "  try:\n",
        "    yt.streams.get_by_itag(22).download(output_path=out_dir,filename=title)\n",
        "  except Exception:\n",
        "    yt.streams.get_by_itag(18).download(output_path=out_dir,filename=title)\n",
        "\n",
        "  try:\n",
        "    caption = yt.captions[\"en\"]\n",
        "    caption.download(title=title,output_path=out_dir)\n",
        "  except Exception as ex:\n",
        "    print(f\"no en subtitle in {yt.title} finished\")\n",
        "  try:\n",
        "    caption = yt.captions[\"a.en\"]\n",
        "    caption.download(title=title,output_path=out_dir)\n",
        "  except Exception as ex:\n",
        "    print(f\"no a.en subtitle in {yt.title} finished\")\n",
        "  \n",
        "\n",
        "  try:\n",
        "    transcript_list = YouTubeTranscriptApi.list_transcripts(yt.video_id)\n",
        "    transcript_list\n",
        "\n",
        "    transcript = transcript_list.find_transcript(['en'])\n",
        "    translated_transcript = transcript.translate('zh-Hans')\n",
        "    zh_trans = translated_transcript.fetch()\n",
        "    en_trans = transcript.fetch()\n",
        "\n",
        "    zh_trans = formatter.format_transcript(zh_trans)\n",
        "    en_trans=formatter.format_transcript(en_trans)\n",
        "\n",
        "    fname = out_dir+\"/{}(en).vtt\".format(title)\n",
        "    with open(fname, \"w\") as fh:\n",
        "        fh.write(en_trans)\n",
        "    # vtt_to_srt(fname)\n",
        "    fname = out_dir+\"/{}(zh).vtt\".format(title)\n",
        "    with open(fname, \"w\") as fh:\n",
        "        fh.write(zh_trans)\n",
        "    # vtt_to_srt(fname)\n",
        "    fname =  out_dir+\"/{}(zhen).vtt\".format(title)\n",
        "    with open(fname, \"w\") as fh:\n",
        "        fh.write(zh_trans+en_trans)\n",
        "    # vtt_to_srt(fname)\n",
        "  except Exception:\n",
        "    pass\n",
        "  print(\"finish {}\".format(title))"
      ],
      "execution_count": 12,
      "outputs": []
    },
    {
      "cell_type": "markdown",
      "metadata": {
        "id": "xvPFj8MUgh24"
      },
      "source": [
        "# Find urls in one page\n"
      ]
    },
    {
      "cell_type": "code",
      "metadata": {
        "id": "xHis1o08EYfh",
        "colab": {
          "base_uri": "https://localhost:8080/"
        },
        "outputId": "1cbcf9ad-d54a-4d41-9852-9bc936aa4e2e"
      },
      "source": [
        "import re\n",
        "# page_url = \"https://www.youtube.com/channel/UCAKQnU09rjmdVRb3iAogCiQ/videos\" #Atomic scale Jose Lado\n",
        "# page_url = \"https://www.youtube.com/c/ILSIITR/videos\" #MOU Institute Lecture Series\n",
        "page_url = \"https://www.youtube.com/channel/UCM06KiUOw1vRrmvD8U274Ww/videos\" #Harvard CMSA quantum-matter-seminar\n",
        "page = requests.get(page_url)\n",
        "webpage = html.fromstring(page.content)\n",
        "\n",
        "video_ids = re.findall(r\"watch\\?v=(\\S{11})\", page.content.decode())\n",
        "print(video_ids)\n",
        "urls = [\"https://www.youtube.com/watch?v={}\".format(vid) for vid in video_ids]\n",
        "urls = urls[::-1] # reversed for some special case\n",
        "\n",
        "out_dir = \"/content/drive/Shareddrives/OBA/HarvardCMSA\""
      ],
      "execution_count": null,
      "outputs": [
        {
          "output_type": "stream",
          "text": [
            "['uYmA14y5gro', 'cK186hBlMms', 'WjfaMl6-Tek', 'CRlsuQKnGLk', 'R7rG5aRaWcE', 'RNvMDKnevlE', 'fyyPvGl7Zj0', 'JML1hlheVKo', 'edD-omyVSMM', 'ISOXhkzdpyc', 'UOaCmF1JEeU', '5een8U5cfbI', 'W2ArMz3J2gI', 'UnUQePiSGKo', 'x24KlhARrKA', 'QfTVaUjn_yg', 'wtaC0tqXZMU', 'T97wv7767AE', 'aVhHTmOUxHQ', 'AxWWOrM53bI', 'mYKlMyTWOhc', 'jGuzgdmtOhQ', 'vo8Yoqh9gb0', '068iZvB2b-Y', '_-nAVEtX4nE', 'mAYnLdi3vs4', 'tTpbHL7cZ5Y', '7Q8GvzJT-aM', 'ZoGfKvCxV6w', 'bERRfF7n9Hg']\n"
          ],
          "name": "stdout"
        }
      ]
    },
    {
      "cell_type": "markdown",
      "metadata": {
        "id": "4sLVLVkE6mKr"
      },
      "source": [
        "# Urls in playlist\n"
      ]
    },
    {
      "cell_type": "code",
      "metadata": {
        "id": "Vqmvti516sQM",
        "colab": {
          "base_uri": "https://localhost:8080/"
        },
        "outputId": "cd9f9401-9667-468b-dddb-bbc99464ef6d"
      },
      "source": [
        "# plisturl = \"https://www.youtube.com/playlist?list=PL7OOhDqj9FBuK3han8ipaKnz2SaGUjvGx\"# topo cm\n",
        "# plisturl=\"https://www.youtube.com/playlist?list=PLygH4pJ_4EhrwydaPvccVQYt1W6ytaYbU\" # tms19\n",
        "# plisturl = \"https://www.youtube.com/playlist?list=PLygH4pJ_4EhogZda-GSFOBhlr2lSHn_p2\" #tms18\n",
        "# plisturl = \"https://www.youtube.com/playlist?list=PLVqoFIN-64LnUQxbX2FeIGYQgX_VTWm-m\" #tms17\n",
        "# plisturl = \"https://www.youtube.com/playlist?list=PLLv6hTkOwhEl1itfLvR-IcvOFt-aCxSzy\" tms16\n",
        "# plisturl = \"https://www.youtube.com/playlist?list=PLE9Qrf4CJnRHxa_OwN7xc2bXacnWzCy1x\" #opensys1\n",
        "# plisturl = \"https://www.youtube.com/playlist?list=PLd9T7y2ABtzJuN2YgujzWZ6fL-llEyuUd\" #opensys2\n",
        "# plisturl = \"https://www.youtube.com/watch?v=g2RwzmG0spo&list=PL2IOBr0XELQSaB14lQgdFNvKHzs0W15hh\" #UTphysics2020\n",
        "# plisturl = \"https://www.youtube.com/watch?v=BSV8zKbKc_Y&list=PL2IOBr0XELQQUjDBrh2tvSHhjHu9PHFYF\"\n",
        "# plisturl = \"https://www.youtube.com/playlist?list=PLZee5Mirzz8ULGEdfuWM0DaoM-Yqtz9r8\" #pcmp2014\n",
        "# plisturl = \"https://www.youtube.com/playlist?list=PLZee5Mirzz8WkK2EtlY1De7msJ6x9vP3T\" #pcmp2015\n",
        "# plisturl = \"https://www.youtube.com/playlist?list=PLZee5Mirzz8UaZUDJZmh1BCV3xIjEPNEw\" #pcmp2016\n",
        "# plisturl = \"https://www.youtube.com/playlist?list=PL04QVxpjcnjgmUoD6tlO_0YT1k5GYgQWi\" #flucations in non equlibrium \n",
        "# plisturl = \"https://www.youtube.com/playlist?list=PLgLljLUllyOcO6g2hoVlPiIKYYdpnlrwP\" #IQUIST Seminars need reversed 更新中 https://iquist.illinois.edu/events/virtual-seminar-series\n",
        "# plisturl = \"https://www.youtube.com/playlist?list=PL0NRmB0fnLJQAnYwkpt9PN2PBKx4rvdup\" #Quantum Matter Program Havard\n",
        "plisturl = \"https://www.youtube.com/playlist?list=PLqJ4D_Db7W_qBCNdmJ2QaoenrXWCs82v0\" #vsf speaker's corner need reversed\n",
        "plist = Playlist(plisturl)\n",
        "urls = plist.video_urls\n",
        "urls = urls[::-1] # reversed for some special case\n",
        "# out_dir = \"/content/drive/Shareddrives/OBA/IQUISTSeminars\"\n",
        "# out_dir = \"/content/drive/Shareddrives/OBA/HarvardCMSA/QuantumMatterProgram\"\n",
        "out_dir = \"/content/drive/Shareddrives/OBA/VSF/SpeakerCorner\"\n",
        "print(len(urls))"
      ],
      "execution_count": 13,
      "outputs": [
        {
          "output_type": "stream",
          "text": [
            "18\n"
          ],
          "name": "stdout"
        }
      ]
    },
    {
      "cell_type": "markdown",
      "metadata": {
        "id": "C0ISLgVAw71y"
      },
      "source": [
        "# Url manully\n"
      ]
    },
    {
      "cell_type": "code",
      "metadata": {
        "id": "iaDFa8IaxBfJ"
      },
      "source": [
        "## non hermitian 2021\n",
        "# urls = [\"https://www.youtube.com/watch?v=MiyTEVq8BJ0\",\n",
        "#         \"https://www.youtube.com/watch?v=wor5vdmBH_E\",\n",
        "#         \"https://www.youtube.com/watch?v=s3qXZbU7ivk\",\n",
        "#         \"https://www.youtube.com/watch?v=ON8hMzgLEHo\",\n",
        "#         \"https://www.youtube.com/watch?v=gtC1LBLYrPk\",\n",
        "#         \"https://www.youtube.com/watch?v=b1qrdafHMp0\",\n",
        "#         \"https://www.youtube.com/watch?v=xcIFxekzy3Q\",\n",
        "#         \"https://www.youtube.com/watch?v=BnIuitcOhmE\",\n",
        "#         \"https://www.youtube.com/watch?v=1zV49ovoGN8\",\n",
        "#         \"https://www.youtube.com/watch?v=Tpm0rSPw_9I\"\n",
        "#         ] "
      ],
      "execution_count": null,
      "outputs": []
    },
    {
      "cell_type": "markdown",
      "metadata": {
        "id": "t3Fc865Xw2mt"
      },
      "source": [
        "# Download task"
      ]
    },
    {
      "cell_type": "code",
      "metadata": {
        "id": "gdJp9FKFkCZQ",
        "colab": {
          "base_uri": "https://localhost:8080/"
        },
        "outputId": "3a0eb6fa-fb1f-499a-ef7a-f5f5bc0e5978"
      },
      "source": [
        "for idx, yturl in enumerate(urls): #plist.video_urls\n",
        "  try:\n",
        "    download(yturl, out_dir,idx=None)\n",
        "  except Exception as ex:\n",
        "    print(f\"exception {ex}\")\n",
        "vtt_to_srt.vtts_to_srt(out_dir, rec = True)"
      ],
      "execution_count": null,
      "outputs": [
        {
          "output_type": "stream",
          "text": [
            "start “numerical Evidence For Marginal Scaling At The Integer Quantum Hall Transition” By E. Dresselhaus\n",
            "no en subtitle in “Numerical evidence for marginal scaling at the integer quantum Hall transition” by E. Dresselhaus finished\n",
            "finish “numerical Evidence For Marginal Scaling At The Integer Quantum Hall Transition” By E. Dresselhaus\n",
            "start “topological Band Structures In The Parameter-dependence Of Josephson Circuits” By Valla Fatemi\n"
          ],
          "name": "stdout"
        }
      ]
    },
    {
      "cell_type": "code",
      "metadata": {
        "trusted": true,
        "id": "photographic-settle"
      },
      "source": [
        "!cd /content/drive/Shareddrives/OBA/HarvardCMSA/QuantumMatterProgram; tar -cvf /content/drive/Shareddrives/OBA/QuantumMatterProgram.tar ./*\n"
      ],
      "execution_count": null,
      "outputs": []
    },
    {
      "cell_type": "code",
      "metadata": {
        "id": "pR3lmU9GR_VH"
      },
      "source": [
        "!rm -rf /content/drive/Shareddrives/OBA/HarvardCMSA/*"
      ],
      "execution_count": null,
      "outputs": []
    },
    {
      "cell_type": "code",
      "metadata": {
        "id": "2R16kp-nB7ol"
      },
      "source": [
        ""
      ],
      "execution_count": null,
      "outputs": []
    }
  ]
}