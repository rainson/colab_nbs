{
  "nbformat": 4,
  "nbformat_minor": 0,
  "metadata": {
    "colab": {
      "name": "ytd2.ipynb",
      "provenance": [],
      "collapsed_sections": [],
      "toc_visible": true,
      "include_colab_link": true
    },
    "kernelspec": {
      "name": "python3",
      "display_name": "Python 3"
    }
  },
  "cells": [
    {
      "cell_type": "markdown",
      "metadata": {
        "id": "view-in-github",
        "colab_type": "text"
      },
      "source": [
        "<a href=\"https://colab.research.google.com/github/rainson/colab_nbs/blob/main/ytd2.ipynb\" target=\"_parent\"><img src=\"https://colab.research.google.com/assets/colab-badge.svg\" alt=\"Open In Colab\"/></a>"
      ]
    },
    {
      "cell_type": "markdown",
      "metadata": {
        "id": "oFTpqVcnxbJl"
      },
      "source": [
        "\n",
        "# Basic functions and imports\n"
      ]
    },
    {
      "cell_type": "code",
      "metadata": {
        "id": "F4picDcBWSSh"
      },
      "source": [
        "!pip install pytube\n",
        "!pip install youtube_transcript_api\n",
        "!pip install vtt_to_srt3"
      ],
      "execution_count": null,
      "outputs": []
    },
    {
      "cell_type": "code",
      "metadata": {
        "trusted": true,
        "id": "sacred-reference"
      },
      "source": [
        "from pytube import YouTube, Playlist\n",
        "from youtube_transcript_api import YouTubeTranscriptApi\n",
        "import json\n",
        "import requests\n",
        "from lxml import html\n",
        "from vtt_to_srt import vtt_to_srt\n",
        "\n",
        "# from vtt_to_srt import vtts_to_srt\n",
        "from youtube_transcript_api.formatters import JSONFormatter\n",
        "from youtube_transcript_api.formatters import TextFormatter\n",
        "from youtube_transcript_api.formatters import WebVTTFormatter"
      ],
      "execution_count": 2,
      "outputs": []
    },
    {
      "cell_type": "code",
      "metadata": {
        "colab": {
          "base_uri": "https://localhost:8080/"
        },
        "id": "7lPO0LTlYcFr",
        "outputId": "8814ea37-7fa0-4578-a581-b9a6b3af6f12"
      },
      "source": [
        "from google.colab import drive\n",
        "drive.mount('/content/drive')"
      ],
      "execution_count": 3,
      "outputs": [
        {
          "output_type": "stream",
          "text": [
            "Mounted at /content/drive\n"
          ],
          "name": "stdout"
        }
      ]
    },
    {
      "cell_type": "code",
      "metadata": {
        "trusted": true,
        "id": "victorian-minister"
      },
      "source": [
        "\n",
        "def download(idx,yturl,out_dir):\n",
        "  formatter = WebVTTFormatter()\n",
        "  yt = YouTube(yturl)\n",
        "  yt.streams.filter(file_extension=\"mp4\")\n",
        "  title = yt.title\n",
        "  title=\"{}\".format(idx)+\"\".join([s.capitalize() for s in title.split(\" \")])\n",
        "  print(\"start {}\".format(title))\n",
        "  try:\n",
        "    yt.streams.get_by_itag(22).download(output_path=out_dir,filename=title)\n",
        "  except Exception:\n",
        "    yt.streams.get_by_itag(18).download(output_path=out_dir,filename=title)\n",
        "\n",
        "  try:\n",
        "    caption = yt.captions[\"en\"]\n",
        "    caption.download(title=title,output_path=out_dir)\n",
        "  except Exception as ex:\n",
        "    print(f\"no en subtitle in {yt.title} finished\")\n",
        "  try:\n",
        "    caption = yt.captions[\"a.en\"]\n",
        "    caption.download(title=title,output_path=out_dir)\n",
        "  except Exception as ex:\n",
        "    print(f\"no a.en subtitle in {yt.title} finished\")\n",
        "  \n",
        "\n",
        "  try:\n",
        "    transcript_list = YouTubeTranscriptApi.list_transcripts(yt.video_id)\n",
        "    transcript_list\n",
        "\n",
        "    transcript = transcript_list.find_transcript(['en'])\n",
        "    translated_transcript = transcript.translate('zh-Hans')\n",
        "    zh_trans = translated_transcript.fetch()\n",
        "    en_trans = transcript.fetch()\n",
        "\n",
        "    zh_trans = formatter.format_transcript(zh_trans)\n",
        "    en_trans=formatter.format_transcript(en_trans)\n",
        "\n",
        "    fname = out_dir+\"/{}(en).vtt\".format(title)\n",
        "    with open(fname, \"w\") as fh:\n",
        "        fh.write(en_trans)\n",
        "    # vtt_to_srt(fname)\n",
        "    fname = out_dir+\"/{}(zh).vtt\".format(title)\n",
        "    with open(fname, \"w\") as fh:\n",
        "        fh.write(zh_trans)\n",
        "    # vtt_to_srt(fname)\n",
        "    fname =  out_dir+\"/{}(zhen).vtt\".format(title)\n",
        "    with open(fname, \"w\") as fh:\n",
        "        fh.write(zh_trans+en_trans)\n",
        "    # vtt_to_srt(fname)\n",
        "  except Exception:\n",
        "    pass\n",
        "  print(\"finish {}\".format(title))"
      ],
      "execution_count": 4,
      "outputs": []
    },
    {
      "cell_type": "markdown",
      "metadata": {
        "id": "xvPFj8MUgh24"
      },
      "source": [
        "# Find urls in one page\n"
      ]
    },
    {
      "cell_type": "code",
      "metadata": {
        "id": "xHis1o08EYfh",
        "colab": {
          "base_uri": "https://localhost:8080/"
        },
        "outputId": "8b7e71fd-6e15-444a-89ee-a48f74bbff14"
      },
      "source": [
        "import re\n",
        "# page_url = \"https://www.youtube.com/channel/UCAKQnU09rjmdVRb3iAogCiQ/videos\" #Atomic scale Jose Lado\n",
        "page_url = \"https://www.youtube.com/c/ILSIITR/videos\" #MOU Institute Lecture Series\n",
        "page = requests.get(page_url)\n",
        "webpage = html.fromstring(page.content)\n",
        "\n",
        "video_ids = re.findall(r\"watch\\?v=(\\S{11})\", page.content.decode())\n",
        "print(video_ids)\n",
        "urls = [\"https://www.youtube.com/watch?v={}\".format(vid) for vid in video_ids]"
      ],
      "execution_count": null,
      "outputs": [
        {
          "output_type": "stream",
          "text": [
            "['tEdFbAYjDtU', 'KsIKadfmhpU', 'nVRwyr2O3gU', '4XXeJ-BWt80', 'e7Z-eup1f3Q', 'JniVQTuZR3c', 'HBBkOqHGcjs', 'LE5-NibKJ9s', 'OFpzfokko0M', '4gh3SZJajyY', 'DaRwdfMiR3w', 'TwayPGEXx1E', 'C1omCSbEHq0', 'WtoNiMk8t2E', 'DOHtdSeiWco', 'jmB5vIadLi8', 'gHy14szhi0o', 'RYKyshYzXd8', 'Q3qDjcVvtA8', 'CB_T8DRIIS8', 'GGISr6FsD70', '-zuzOmM-r3Q', 'RM4yPpErVv4', 'kaZ34JyvS-8', 'gkPMyUK9csI', 'fl6cEAN0Xp8', 'CeIV8NA9m78', 'ot8VjDsxRFM', 'XwSvpb_j-KM', '8-XW7B6y2lk']\n"
          ],
          "name": "stdout"
        }
      ]
    },
    {
      "cell_type": "markdown",
      "metadata": {
        "id": "4sLVLVkE6mKr"
      },
      "source": [
        "# Urls in playlist\n"
      ]
    },
    {
      "cell_type": "code",
      "metadata": {
        "id": "Vqmvti516sQM",
        "colab": {
          "base_uri": "https://localhost:8080/"
        },
        "outputId": "56b4fae6-fc48-41cc-ca5a-aa78bd7587a4"
      },
      "source": [
        "# plisturl = \"https://www.youtube.com/playlist?list=PL7OOhDqj9FBuK3han8ipaKnz2SaGUjvGx\"# topo cm\n",
        "# plisturl=\"https://www.youtube.com/playlist?list=PLygH4pJ_4EhrwydaPvccVQYt1W6ytaYbU\" # tms19\n",
        "# plisturl = \"https://www.youtube.com/playlist?list=PLygH4pJ_4EhogZda-GSFOBhlr2lSHn_p2\" #tms18\n",
        "# plisturl = \"https://www.youtube.com/playlist?list=PLVqoFIN-64LnUQxbX2FeIGYQgX_VTWm-m\" #tms17\n",
        "# plisturl = \"https://www.youtube.com/playlist?list=PLLv6hTkOwhEl1itfLvR-IcvOFt-aCxSzy\" tms16\n",
        "# plisturl = \"https://www.youtube.com/playlist?list=PLE9Qrf4CJnRHxa_OwN7xc2bXacnWzCy1x\" #opensys1\n",
        "# plisturl = \"https://www.youtube.com/playlist?list=PLd9T7y2ABtzJuN2YgujzWZ6fL-llEyuUd\" #opensys2\n",
        "# plisturl = \"https://www.youtube.com/watch?v=g2RwzmG0spo&list=PL2IOBr0XELQSaB14lQgdFNvKHzs0W15hh\" #UTphysics2020\n",
        "# plisturl = \"https://www.youtube.com/watch?v=BSV8zKbKc_Y&list=PL2IOBr0XELQQUjDBrh2tvSHhjHu9PHFYF\"\n",
        "# plisturl = \"https://www.youtube.com/playlist?list=PLZee5Mirzz8ULGEdfuWM0DaoM-Yqtz9r8\" #pcmp2014\n",
        "# plisturl = \"https://www.youtube.com/playlist?list=PLZee5Mirzz8WkK2EtlY1De7msJ6x9vP3T\" #pcmp2015\n",
        "# plisturl = \"https://www.youtube.com/playlist?list=PLZee5Mirzz8UaZUDJZmh1BCV3xIjEPNEw\" #pcmp2016\n",
        "# plisturl = \"https://www.youtube.com/playlist?list=PL04QVxpjcnjgmUoD6tlO_0YT1k5GYgQWi\" #flucations in non equlibrium \n",
        "plisturl = \"https://www.youtube.com/playlist?list=PLgLljLUllyOcO6g2hoVlPiIKYYdpnlrwP\" #IQUIST Seminars need reversed 更新中 https://iquist.illinois.edu/events/virtual-seminar-series\n",
        "plist = Playlist(plisturl)\n",
        "urls = plist.video_urls\n",
        "urls = urls[::-1] # reversed for some special case\n",
        "out_dir = \"/content/drive/Shareddrives/OBA/IQUISTSeminars\"\n",
        "print(len(urls))"
      ],
      "execution_count": 7,
      "outputs": [
        {
          "output_type": "stream",
          "text": [
            "30\n"
          ],
          "name": "stdout"
        }
      ]
    },
    {
      "cell_type": "markdown",
      "metadata": {
        "id": "C0ISLgVAw71y"
      },
      "source": [
        "# Url manully\n"
      ]
    },
    {
      "cell_type": "code",
      "metadata": {
        "id": "iaDFa8IaxBfJ"
      },
      "source": [
        "## non hermitian 2021\n",
        "# urls = [\"https://www.youtube.com/watch?v=MiyTEVq8BJ0\",\n",
        "#         \"https://www.youtube.com/watch?v=wor5vdmBH_E\",\n",
        "#         \"https://www.youtube.com/watch?v=s3qXZbU7ivk\",\n",
        "#         \"https://www.youtube.com/watch?v=ON8hMzgLEHo\",\n",
        "#         \"https://www.youtube.com/watch?v=gtC1LBLYrPk\",\n",
        "#         \"https://www.youtube.com/watch?v=b1qrdafHMp0\",\n",
        "#         \"https://www.youtube.com/watch?v=xcIFxekzy3Q\",\n",
        "#         \"https://www.youtube.com/watch?v=BnIuitcOhmE\",\n",
        "#         \"https://www.youtube.com/watch?v=1zV49ovoGN8\",\n",
        "#         \"https://www.youtube.com/watch?v=Tpm0rSPw_9I\"\n",
        "#         ] "
      ],
      "execution_count": null,
      "outputs": []
    },
    {
      "cell_type": "markdown",
      "metadata": {
        "id": "t3Fc865Xw2mt"
      },
      "source": [
        "# Download task"
      ]
    },
    {
      "cell_type": "code",
      "metadata": {
        "id": "gdJp9FKFkCZQ",
        "colab": {
          "base_uri": "https://localhost:8080/"
        },
        "outputId": "9edea5db-2dc1-4b59-86c8-1ba7edc5efbf"
      },
      "source": [
        "for idx, yturl in enumerate(urls): #plist.video_urls\n",
        "  try:\n",
        "    download(idx+1,yturl, out_dir)\n",
        "  except Exception as ex:\n",
        "    print(f\"exception {ex}\")\n",
        "vtt_to_srt.vtts_to_srt(out_dir, rec = True)"
      ],
      "execution_count": null,
      "outputs": [
        {
          "output_type": "stream",
          "text": [
            "start 1MeltingAQuantumComputerPresentedByTaylorHughes,UniversityOfIllinois\n",
            "no en subtitle in Melting a quantum computer presented by Taylor Hughes, University of Illinois finished\n",
            "no a.en subtitle in Melting a quantum computer presented by Taylor Hughes, University of Illinois finished\n",
            "finish 1MeltingAQuantumComputerPresentedByTaylorHughes,UniversityOfIllinois\n",
            "start 2ALookIntoTheQuantumSupremacyExperimentPresentedByBenjaminVillalonga\n",
            "no en subtitle in A look into the quantum supremacy experiment presented by Benjamin Villalonga finished\n",
            "finish 2ALookIntoTheQuantumSupremacyExperimentPresentedByBenjaminVillalonga\n",
            "start 3CreatingAndMeasuringTheElusiveMajoranaFermionByVidyaMadhavan,UniversityOfIllinois\n",
            "no en subtitle in Creating and measuring the elusive Majorana fermion by Vidya Madhavan, University of Illinois finished\n",
            "finish 3CreatingAndMeasuringTheElusiveMajoranaFermionByVidyaMadhavan,UniversityOfIllinois\n",
            "start 4TensorSoftwareAndAlgorithmsForQuantumSimulationByEdgarSolomonik,UniversityOfIllinois\n",
            "no en subtitle in Tensor software and algorithms for quantum simulation by Edgar Solomonik, University of Illinois finished\n",
            "finish 4TensorSoftwareAndAlgorithmsForQuantumSimulationByEdgarSolomonik,UniversityOfIllinois\n",
            "start 5QuantumMultiplexing:It'sAboutTimeByPaulKwiat,UniversityOfIllinois\n",
            "no en subtitle in Quantum multiplexing: it's about time by Paul Kwiat, University of Illinois finished\n",
            "finish 5QuantumMultiplexing:It'sAboutTimeByPaulKwiat,UniversityOfIllinois\n",
            "start 6QuantumLight-matterInterfacesByElizabethGoldschmidt,UniversityOfIllinois\n",
            "no en subtitle in Quantum light-matter interfaces by Elizabeth Goldschmidt, University of Illinois finished\n",
            "finish 6QuantumLight-matterInterfacesByElizabethGoldschmidt,UniversityOfIllinois\n",
            "start 7QuantumResourceTheoriesByEricChitambar,UniversityOfIllinois\n",
            "no en subtitle in Quantum resource theories by Eric Chitambar, University of Illinois finished\n",
            "finish 7QuantumResourceTheoriesByEricChitambar,UniversityOfIllinois\n",
            "start 8DecayEstimatesForContinuousQuantumSystemsByMariusJunge,UniversityOfIllinois\n",
            "no en subtitle in Decay estimates for continuous quantum systems by Marius Junge, University of Illinois finished\n",
            "finish 8DecayEstimatesForContinuousQuantumSystemsByMariusJunge,UniversityOfIllinois\n",
            "start 9PlasmonEnhancedQuantumEmittersForUltrafastQuantumPhotonicsBySimeonBogdanov,UniversityOf\n"
          ],
          "name": "stdout"
        }
      ]
    },
    {
      "cell_type": "code",
      "metadata": {
        "trusted": true,
        "id": "photographic-settle"
      },
      "source": [
        "!cd /content/drive/Shareddrives/OBA/IQUISTSeminars; tar -cvf /content/drive/Shareddrives/OBA/IQUISTSeminars.tar ./*\n"
      ],
      "execution_count": null,
      "outputs": []
    },
    {
      "cell_type": "code",
      "metadata": {
        "id": "pR3lmU9GR_VH"
      },
      "source": [
        ""
      ],
      "execution_count": null,
      "outputs": []
    }
  ]
}